{
 "cells": [
  {
   "cell_type": "code",
   "execution_count": 2,
   "metadata": {},
   "outputs": [
    {
     "name": "stdout",
     "output_type": "stream",
     "text": [
      "                 Id                                              Titre  Prix  \\\n",
      "2945667  B0006CR6U4  A dictionary of the Targumim, the Talmud Babli...   NaN   \n",
      "2352586  0897166159           Espresso Coffee: Professional Techniques   NaN   \n",
      "1531260  0736693408  The First King of Shannara (The Sword of Shann...   NaN   \n",
      "941910   0395051029             Wuthering Heights (Riverside editions)   NaN   \n",
      "2582125  4770016050  A Cat, a Man, and Two Women (Japans Modern Wri...   NaN   \n",
      "\n",
      "                User_id                 Nom lecteur revue/utilité  \\\n",
      "2945667  A303XPDO694V6X                       Ariel           2/6   \n",
      "2352586  A3780H4TM9RMB8                David barnes           0/1   \n",
      "1531260  A1AX6VPDQQZDPV                   M Carlton           4/4   \n",
      "941910   A35RQKCCCQ62O0                       LadyJ           0/0   \n",
      "2582125  A2IJQDE1I4SIJT  David C. Arnold \"master D\"           1/2   \n",
      "\n",
      "         revue/score  revue/heure                            revue/résumé  \\\n",
      "2945667          4.0   1122163200                                 Jastrow   \n",
      "2352586          2.0   1356912000                            NOT the book   \n",
      "1531260          5.0   1105574400             Great (what do you expect?)   \n",
      "941910           4.0   1353888000                               Satisfied   \n",
      "2582125          5.0   1167955200  Ordered 09/02/2006, still on backorder   \n",
      "\n",
      "                                               revue/texte  \n",
      "2945667  Jastrow made a great workthis dictionary can h...  \n",
      "2352586  Extremely disappointed by the SHORT length and...  \n",
      "1531260  This, like all of Brook's Shannara series book...  \n",
      "941910   I enjoyed this classic. I didn't know the stor...  \n",
      "2582125  I would love to read this book. Have accepted ...  \n"
     ]
    }
   ],
   "source": [
    "import pandas as pd\n",
    "\n",
    "PATH = \"./data/Books_rating_t.csv\"\n",
    "\n",
    "# Read the data\n",
    "data = pd.read_csv(PATH)  \n",
    "\n",
    "# Récupérer un échantillon de 10 000 lignes\n",
    "sample_data = data.sample(n=10000, random_state=42)  # Utiliser random_state pour reproduire les mêmes résultats\n",
    "\n",
    "# Afficher les premières lignes de l'échantillon\n",
    "print(sample_data.head())\n",
    "\n",
    "# Enregistrer l'échantillon dans un nouveau fichier CSV si nécessaire\n",
    "sample_data.to_csv('./data/Sample_Books_rating.csv', index=False)"
   ]
  }
 ],
 "metadata": {
  "kernelspec": {
   "display_name": "Python 3",
   "language": "python",
   "name": "python3"
  },
  "language_info": {
   "codemirror_mode": {
    "name": "ipython",
    "version": 3
   },
   "file_extension": ".py",
   "mimetype": "text/x-python",
   "name": "python",
   "nbconvert_exporter": "python",
   "pygments_lexer": "ipython3",
   "version": "3.11.5"
  }
 },
 "nbformat": 4,
 "nbformat_minor": 2
}
