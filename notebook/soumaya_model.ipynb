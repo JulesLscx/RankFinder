{
 "cells": [
  {
   "cell_type": "code",
   "execution_count": 5,
   "metadata": {},
   "outputs": [
    {
     "name": "stdout",
     "output_type": "stream",
     "text": [
      "MSE: 1.1124572141135383\n",
      "R² score: 0.2367695592690694\n"
     ]
    }
   ],
   "source": [
    "import pandas as pd\n",
    "from sklearn.model_selection import train_test_split\n",
    "from sklearn.feature_extraction.text import TfidfVectorizer\n",
    "from sklearn.linear_model import LinearRegression\n",
    "from sklearn.metrics import mean_squared_error, r2_score\n",
    "\n",
    "file_path = '../data/Sample_Books_rating.csv'  \n",
    "data = pd.read_csv(file_path)\n",
    "\n",
    "data_clean = data.dropna(subset=['revue/texte', 'revue/score'])\n",
    "\n",
    "# Séparation des données en ensembles d'entraînement et de test\n",
    "X = data_clean['revue/texte']\n",
    "y = data_clean['revue/score']\n",
    "X_train, X_test, y_train, y_test = train_test_split(X, y, test_size=0.2, random_state=42)\n",
    "\n",
    "# Vectorisation des textes avec TF-IDF\n",
    "vectorizer = TfidfVectorizer(stop_words='english', max_features=1000)\n",
    "X_train_vect = vectorizer.fit_transform(X_train)\n",
    "X_test_vect = vectorizer.transform(X_test)\n",
    "\n",
    "# Entraînement du modèle \n",
    "model = LinearRegression()\n",
    "model.fit(X_train_vect, y_train)\n",
    "\n",
    "# Prédiction sur l'ensemble de test\n",
    "y_pred = model.predict(X_test_vect)\n",
    "\n",
    "# Évaluation du modèle\n",
    "mse = mean_squared_error(y_test, y_pred)\n",
    "r2 = r2_score(y_test, y_pred)\n",
    "\n",
    "print(f'MSE: {mse}')\n",
    "print(f'R² score: {r2}')\n"
   ]
  },
  {
   "cell_type": "code",
   "execution_count": 29,
   "metadata": {},
   "outputs": [
    {
     "name": "stdout",
     "output_type": "stream",
     "text": [
      "           Id                                              Titre  Prix  \\\n",
      "0  B0006CR6U4  A dictionary of the Targumim, the Talmud Babli...   NaN   \n",
      "1  0897166159           Espresso Coffee: Professional Techniques   NaN   \n",
      "2  0736693408  The First King of Shannara (The Sword of Shann...   NaN   \n",
      "3  0395051029             Wuthering Heights (Riverside editions)   NaN   \n",
      "4  4770016050  A Cat, a Man, and Two Women (Japans Modern Wri...   NaN   \n",
      "\n",
      "          User_id                 Nom lecteur revue/utilité  revue/score  \\\n",
      "0  A303XPDO694V6X                       Ariel           2/6          4.0   \n",
      "1  A3780H4TM9RMB8                David barnes           0/1          2.0   \n",
      "2  A1AX6VPDQQZDPV                   M Carlton           4/4          5.0   \n",
      "3  A35RQKCCCQ62O0                       LadyJ           0/0          4.0   \n",
      "4  A2IJQDE1I4SIJT  David C. Arnold \"master D\"           1/2          5.0   \n",
      "\n",
      "   revue/heure                            revue/résumé  \\\n",
      "0   1122163200                                 Jastrow   \n",
      "1   1356912000                            NOT the book   \n",
      "2   1105574400             Great (what do you expect?)   \n",
      "3   1353888000                               Satisfied   \n",
      "4   1167955200  Ordered 09/02/2006, still on backorder   \n",
      "\n",
      "                                         revue/texte  \n",
      "0  Jastrow made a great workthis dictionary can h...  \n",
      "1  Extremely disappointed by the SHORT length and...  \n",
      "2  This, like all of Brook's Shannara series book...  \n",
      "3  I enjoyed this classic. I didn't know the stor...  \n",
      "4  I would love to read this book. Have accepted ...  \n",
      "accuracy :  0.6045\n",
      "RMSE: 1.342013412749664\n"
     ]
    }
   ],
   "source": [
    "import pandas as pd\n",
    "from sklearn.model_selection import train_test_split\n",
    "from sklearn.feature_extraction.text import TfidfVectorizer, CountVectorizer\n",
    "from sklearn.ensemble import GradientBoostingClassifier\n",
    "from sklearn.ensemble import AdaBoostClassifier\n",
    "from sklearn.metrics import mean_squared_error\n",
    "\n",
    "data = pd.read_csv('../data/Sample_Books_rating.csv')\n",
    "print(data.head())\n",
    "data.dropna(subset=['revue/texte', 'revue/score'], inplace=True)\n",
    "\n",
    "\n",
    "vectorizer = TfidfVectorizer(stop_words='english')\n",
    "X = vectorizer.fit_transform(data['revue/texte'])\n",
    "\n",
    "X_train, X_test, y_train, y_test = train_test_split(X, data['revue/score'], test_size=0.2, random_state=42)\n",
    "\n",
    "model =AdaBoostClassifier()\n",
    "model.fit(X_train, y_train)\n",
    "\n",
    "predictions = model.predict(X_test)\n",
    "print('accuracy : ', model.score(X_test, y_test))\n",
    "print('RMSE:', mean_squared_error(y_test, predictions, squared=False))"
   ]
  },
  {
   "cell_type": "code",
   "execution_count": 31,
   "metadata": {},
   "outputs": [
    {
     "name": "stdout",
     "output_type": "stream",
     "text": [
      "           Id                                              Titre  Prix  \\\n",
      "0  B0006CR6U4  A dictionary of the Targumim, the Talmud Babli...   NaN   \n",
      "1  0897166159           Espresso Coffee: Professional Techniques   NaN   \n",
      "2  0736693408  The First King of Shannara (The Sword of Shann...   NaN   \n",
      "3  0395051029             Wuthering Heights (Riverside editions)   NaN   \n",
      "4  4770016050  A Cat, a Man, and Two Women (Japans Modern Wri...   NaN   \n",
      "\n",
      "          User_id                 Nom lecteur revue/utilité  revue/score  \\\n",
      "0  A303XPDO694V6X                       Ariel           2/6          4.0   \n",
      "1  A3780H4TM9RMB8                David barnes           0/1          2.0   \n",
      "2  A1AX6VPDQQZDPV                   M Carlton           4/4          5.0   \n",
      "3  A35RQKCCCQ62O0                       LadyJ           0/0          4.0   \n",
      "4  A2IJQDE1I4SIJT  David C. Arnold \"master D\"           1/2          5.0   \n",
      "\n",
      "   revue/heure                            revue/résumé  \\\n",
      "0   1122163200                                 Jastrow   \n",
      "1   1356912000                            NOT the book   \n",
      "2   1105574400             Great (what do you expect?)   \n",
      "3   1353888000                               Satisfied   \n",
      "4   1167955200  Ordered 09/02/2006, still on backorder   \n",
      "\n",
      "                                         revue/texte  \n",
      "0  Jastrow made a great workthis dictionary can h...  \n",
      "1  Extremely disappointed by the SHORT length and...  \n",
      "2  This, like all of Brook's Shannara series book...  \n",
      "3  I enjoyed this classic. I didn't know the stor...  \n",
      "4  I would love to read this book. Have accepted ...  \n",
      "accuracy :  0.605\n",
      "RMSE: 1.4065916251705752\n"
     ]
    }
   ],
   "source": [
    "import pandas as pd\n",
    "from sklearn.model_selection import train_test_split\n",
    "from sklearn.feature_extraction.text import CountVectorizer,  TfidfVectorizer\n",
    "from sklearn.tree import DecisionTreeClassifier\n",
    "from sklearn.ensemble import RandomForestClassifier\n",
    "from sklearn.metrics import mean_squared_error\n",
    "\n",
    "# Load the data\n",
    "data = pd.read_csv('../data/Sample_Books_rating.csv')\n",
    "print(data.head())\n",
    "\n",
    "# Preprocess the data\n",
    "data.dropna(subset=['revue/texte', 'revue/score'], inplace=True)\n",
    "\n",
    "vectorizer = TfidfVectorizer(stop_words='english', max_features=1000)\n",
    "X = vectorizer.fit_transform(data['revue/texte'])\n",
    "\n",
    "# Split the data into training and testing sets\n",
    "X_train, X_test, y_train, y_test = train_test_split(X, data['revue/score'], test_size=0.2, random_state=42)\n",
    "\n",
    "# Train the Decision Tree model\n",
    "#model = DecisionTreeClassifier()\n",
    "model = RandomForestClassifier()\n",
    "model.fit(X_train, y_train)\n",
    "\n",
    "# Evaluate the model\n",
    "predictions = model.predict(X_test)\n",
    "print('accuracy : ', model.score(X_test, y_test))\n",
    "print('RMSE:', mean_squared_error(y_test, predictions, squared=False))"
   ]
  }
 ],
 "metadata": {
  "kernelspec": {
   "display_name": "Python 3",
   "language": "python",
   "name": "python3"
  },
  "language_info": {
   "codemirror_mode": {
    "name": "ipython",
    "version": 3
   },
   "file_extension": ".py",
   "mimetype": "text/x-python",
   "name": "python",
   "nbconvert_exporter": "python",
   "pygments_lexer": "ipython3",
   "version": "3.10.11"
  }
 },
 "nbformat": 4,
 "nbformat_minor": 2
}
