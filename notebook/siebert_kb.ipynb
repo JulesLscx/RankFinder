{
 "cells": [
  {
   "cell_type": "code",
   "execution_count": 1,
   "id": "initial_id",
   "metadata": {
    "collapsed": true,
    "ExecuteTime": {
     "end_time": "2024-02-16T10:12:04.245684900Z",
     "start_time": "2024-02-16T10:12:04.191533900Z"
    }
   },
   "outputs": [],
   "source": [
    "\"\"\"janvier 2024\n",
    "SAE.3 1\n",
    "S6.C.01 Machine learning- deep learning\n",
    "Une des problématiques que rencontrent les « vendeurs » de livres, de produits, …,\n",
    "tels que Amazon (Spotify, …) est d’évaluer la polarité des avis (commentaires) laissés\n",
    "par les acheteurs, les lecteurs, etc. Ces avis permettent à ces plateformes de mieux\n",
    "orienter leurs achats vers leurs potentiels consommateurs.\n",
    "Dans le cas de la SAE, nous avons collecté des commentaires d’utilisateurs sur des\n",
    "livres. Ces livres sont décrits par des métadonnées « classiques » (titre, auteurs,\n",
    "éditeur, etc.), et on leur a associé les commentaires laissés par les utilisateurs.\n",
    "Le dataset est composé de deux fichiers, le premier comporte la description des livres\n",
    "avec plusieurs métadonnées, et le second comporte les commentaires laissés par les\n",
    "lecteurs, en plus de ce commentaire les lecteurs ont également donné un score entre\n",
    "1 et 5 (étoiles).\n",
    "L’objectif de la SAE est de prédire la polarité et le score des commentaires en\n",
    "exploitant différentes représentations de textes.\n",
    "Avant de se lancer dans cette phase de prédiction, il est demandé, d’effectuer\n",
    "quelques analyses afin de mieux comprendre la répartition des données de ce\n",
    "Dataset.\n",
    "Quelques analyses de données à effectuer\n",
    "- Distribution des livres sur le marché en fonction du genre\n",
    "- Les mots les plus fréquents dans les revues ayant obtenues un score >5\n",
    "(afficher sous forme de WordCloud)\n",
    "- Les Livres les plus commentés (évalués)\n",
    "- Les Livres les mieux notés\n",
    "- Dans quels genres les lecteurs donnent-ils des évaluations positives et\n",
    "négatives ?\n",
    "- Les 10 auteurs les mieux notés avec 5 étoiles\n",
    "- Les 10 auteurs les mieux notés avec 1 étoile\n",
    "- Existe t-il une corrélation entre l’éditeur et le commentaire (score)\n",
    "- Existe-t-il une corrélation entre les auteurs et le commentaire (score).\n",
    "- Distribution des sentiments négatifs, neutres et positifs dans l'ensemble du\n",
    "corpus\n",
    "- Nombre le plus élevé de critiques négatives/positives/neutres sur les livres\n",
    "- Existe-t-il une corrélation entre le prix et la revue (le score de la revue)\n",
    "Ce qui est demandé :\n",
    "- Prédiction de la polarité des commentaires : La première prédiction est assez\n",
    "simple, il s’agit de prédire la polarité du commentaire Positif, négatif ou neutre\n",
    "(on peut effectuer une réparation assez simple, si le score >3 alors le\n",
    "commentaire est Positif, score <3 polarité négative, 3 neutre) .\n",
    "janvier 2024\n",
    "SAE.3 2\n",
    "- Prédiction des scores des commentaires : construire un modèle capable de\n",
    "prédire le score que va attribuer le lecteur à partir de son commentaire).\n",
    "Il est demandé d’exploiter et de comparer\n",
    "- Différents modèles de représentation de textes :\n",
    "o Mots simples\n",
    "o Tf.idf\n",
    "o Embeddings BERT, modèle LLM ala GPT\n",
    "- Différentes méthodes d’apprentissage :\n",
    "o Algorithmes classiques- algorithmes de deep learning\n",
    "-\n",
    "PS : une revue (commentaire) comporte différents champs utiles, en particulier, le\n",
    "résumé du commentaire, le texte complet du commentaire, Il est demandé d’évaluer\n",
    "l’impact de ces différents textes dans le modèle de prédiction.\"\"\"\n"
   ]
  },
  {
   "cell_type": "code",
   "outputs": [],
   "source": [
    "# Objectif du fichier siebert_kb -> Utiliser siebert et trouver la polarité"
   ],
   "metadata": {
    "collapsed": false
   },
   "id": "156a2aa9d3524dda"
  },
  {
   "cell_type": "code",
   "outputs": [
    {
     "name": "stdout",
     "output_type": "stream",
     "text": [
      "<class 'pandas.core.frame.DataFrame'>\n",
      "RangeIndex: 10000 entries, 0 to 9999\n",
      "Data columns (total 10 columns):\n",
      " #   Column         Non-Null Count  Dtype  \n",
      "---  ------         --------------  -----  \n",
      " 0   Id             10000 non-null  object \n",
      " 1   Titre          10000 non-null  object \n",
      " 2   Prix           1557 non-null   float64\n",
      " 3   User_id        8140 non-null   object \n",
      " 4   Nom lecteur    8140 non-null   object \n",
      " 5   revue/utilité  10000 non-null  object \n",
      " 6   revue/score    10000 non-null  float64\n",
      " 7   revue/heure    10000 non-null  int64  \n",
      " 8   revue/résumé   9999 non-null   object \n",
      " 9   revue/texte    10000 non-null  object \n",
      "dtypes: float64(2), int64(1), object(7)\n",
      "memory usage: 781.4+ KB\n"
     ]
    },
    {
     "data": {
      "text/plain": "\"<class 'pandas.core.frame.DataFrame'>\\nRangeIndex: 10000 entries, 0 to 9999\\nData columns (total 10 columns):\\n #   Column         Non-Null Count  Dtype  \\n---  ------         --------------  -----  \\n 0   Id             10000 non-null  object \\n 1   Titre          10000 non-null  object \\n 2   Prix           1557 non-null   float64\\n 3   User_id        8140 non-null   object \\n 4   Nom lecteur    8140 non-null   object \\n 5   revue/utilité  10000 non-null  object \\n 6   revue/score    10000 non-null  float64\\n 7   revue/heure    10000 non-null  int64  \\n 8   revue/résumé   9999 non-null   object \\n 9   revue/texte    10000 non-null  object \\ndtypes: float64(2), int64(1), object(7)\\nmemory usage: 781.4+ KB\\n\""
     },
     "execution_count": 4,
     "metadata": {},
     "output_type": "execute_result"
    }
   ],
   "source": [
    "# première étape : importer les données\n",
    "import pandas as pd\n",
    "\n",
    "data = pd.read_csv(\"../data/Sample_Books_rating.csv\")\n",
    "data.head()\n",
    "data.info()\n",
    "\"\"\"<class 'pandas.core.frame.DataFrame'>\n",
    "RangeIndex: 10000 entries, 0 to 9999\n",
    "Data columns (total 10 columns):\n",
    " #   Column         Non-Null Count  Dtype  \n",
    "---  ------         --------------  -----  \n",
    " 0   Id             10000 non-null  object \n",
    " 1   Titre          10000 non-null  object \n",
    " 2   Prix           1557 non-null   float64\n",
    " 3   User_id        8140 non-null   object \n",
    " 4   Nom lecteur    8140 non-null   object \n",
    " 5   revue/utilité  10000 non-null  object \n",
    " 6   revue/score    10000 non-null  float64\n",
    " 7   revue/heure    10000 non-null  int64  \n",
    " 8   revue/résumé   9999 non-null   object \n",
    " 9   revue/texte    10000 non-null  object \n",
    "dtypes: float64(2), int64(1), object(7)\n",
    "memory usage: 781.4+ KB\n",
    "\"\"\""
   ],
   "metadata": {
    "collapsed": false,
    "ExecuteTime": {
     "end_time": "2024-02-16T10:27:01.986032400Z",
     "start_time": "2024-02-16T10:27:01.720322Z"
    }
   },
   "id": "5e03b788ffb72ce3",
   "execution_count": 4
  },
  {
   "cell_type": "code",
   "outputs": [
    {
     "name": "stdout",
     "output_type": "stream",
     "text": [
      "Requirement already satisfied: torch in c:\\users\\baran\\anaconda3\\lib\\site-packages (2.2.0)Transformers version:  4.24.0\n",
      "Keras version:  2.15.0\n",
      "TensorFlow version:  2.15.0\n"
     ]
    },
    {
     "name": "stderr",
     "output_type": "stream",
     "text": [
      "WARNING: Ignoring invalid distribution -umpy (c:\\users\\baran\\anaconda3\\lib\\site-packages)\n",
      "WARNING: Ignoring invalid distribution -umpy (c:\\users\\baran\\anaconda3\\lib\\site-packages)\n",
      "WARNING: Ignoring invalid distribution -umpy (c:\\users\\baran\\anaconda3\\lib\\site-packages)\n",
      "WARNING: Ignoring invalid distribution -umpy (c:\\users\\baran\\anaconda3\\lib\\site-packages)\n",
      "WARNING: Ignoring invalid distribution -umpy (c:\\users\\baran\\anaconda3\\lib\\site-packages)\n",
      "WARNING: Ignoring invalid distribution -umpy (c:\\users\\baran\\anaconda3\\lib\\site-packages)\n"
     ]
    },
    {
     "name": "stdout",
     "output_type": "stream",
     "text": [
      "\n",
      "Requirement already satisfied: transformers in c:\\users\\baran\\anaconda3\\lib\\site-packages (4.37.2)\n",
      "Requirement already satisfied: fsspec in c:\\users\\baran\\anaconda3\\lib\\site-packages (from torch) (2024.2.0)\n",
      "Requirement already satisfied: sympy in c:\\users\\baran\\anaconda3\\lib\\site-packages (from torch) (1.10.1)\n",
      "Requirement already satisfied: typing-extensions>=4.8.0 in c:\\users\\baran\\anaconda3\\lib\\site-packages (from torch) (4.9.0)\n",
      "Requirement already satisfied: filelock in c:\\users\\baran\\anaconda3\\lib\\site-packages (from torch) (3.6.0)\n",
      "Requirement already satisfied: networkx in c:\\users\\baran\\anaconda3\\lib\\site-packages (from torch) (2.8.4)\n",
      "Requirement already satisfied: jinja2 in c:\\users\\baran\\anaconda3\\lib\\site-packages (from torch) (2.11.3)\n",
      "Requirement already satisfied: tqdm>=4.27 in c:\\users\\baran\\anaconda3\\lib\\site-packages (from transformers) (4.66.2)\n",
      "Requirement already satisfied: pyyaml>=5.1 in c:\\users\\baran\\anaconda3\\lib\\site-packages (from transformers) (6.0.1)\n",
      "Requirement already satisfied: numpy>=1.17 in c:\\users\\baran\\anaconda3\\lib\\site-packages (from transformers) (1.26.4)\n",
      "Requirement already satisfied: tokenizers<0.19,>=0.14 in c:\\users\\baran\\anaconda3\\lib\\site-packages (from transformers) (0.15.2)\n",
      "Requirement already satisfied: huggingface-hub<1.0,>=0.19.3 in c:\\users\\baran\\anaconda3\\lib\\site-packages (from transformers) (0.20.3)\n",
      "Requirement already satisfied: safetensors>=0.4.1 in c:\\users\\baran\\anaconda3\\lib\\site-packages (from transformers) (0.4.2)\n",
      "Requirement already satisfied: packaging>=20.0 in c:\\users\\baran\\anaconda3\\lib\\site-packages (from transformers) (23.2)\n",
      "Requirement already satisfied: requests in c:\\users\\baran\\anaconda3\\lib\\site-packages (from transformers) (2.31.0)\n",
      "Requirement already satisfied: regex!=2019.12.17 in c:\\users\\baran\\anaconda3\\lib\\site-packages (from transformers) (2023.12.25)\n",
      "Requirement already satisfied: colorama in c:\\users\\baran\\anaconda3\\lib\\site-packages (from tqdm>=4.27->transformers) (0.4.6)\n",
      "Requirement already satisfied: MarkupSafe>=0.23 in c:\\users\\baran\\anaconda3\\lib\\site-packages (from jinja2->torch) (2.0.1)\n",
      "Requirement already satisfied: charset-normalizer<4,>=2 in c:\\users\\baran\\anaconda3\\lib\\site-packages (from requests->transformers) (2.0.4)\n",
      "Requirement already satisfied: urllib3<3,>=1.21.1 in c:\\users\\baran\\anaconda3\\lib\\site-packages (from requests->transformers) (1.26.11)\n",
      "Requirement already satisfied: certifi>=2017.4.17 in c:\\users\\baran\\anaconda3\\lib\\site-packages (from requests->transformers) (2023.11.17)\n",
      "Requirement already satisfied: idna<4,>=2.5 in c:\\users\\baran\\anaconda3\\lib\\site-packages (from requests->transformers) (3.3)\n",
      "Requirement already satisfied: mpmath>=0.19 in c:\\users\\baran\\anaconda3\\lib\\site-packages (from sympy->torch) (1.2.1)\n"
     ]
    }
   ],
   "source": [
    "import transformers\n",
    "import keras\n",
    "import tensorflow\n",
    "# !pip install --upgrade torch transformers\n",
    "print(\"Transformers version: \", transformers.__version__)\n",
    "print(\"Keras version: \", keras.__version__)\n",
    "print(\"TensorFlow version: \", tensorflow.__version__)"
   ],
   "metadata": {
    "collapsed": false,
    "ExecuteTime": {
     "end_time": "2024-02-16T11:13:20.195667700Z",
     "start_time": "2024-02-16T11:13:15.082279800Z"
    }
   },
   "id": "f04a4f71101f085",
   "execution_count": 19
  },
  {
   "cell_type": "code",
   "outputs": [
    {
     "ename": "RuntimeError",
     "evalue": "Failed to import transformers.models.transfo_xl.configuration_transfo_xl because of the following error (look up to see its traceback):\nNo module named 'transformers.models.transfo_xl.configuration_transfo_xl'",
     "output_type": "error",
     "traceback": [
      "\u001B[1;31m---------------------------------------------------------------------------\u001B[0m",
      "\u001B[1;31mModuleNotFoundError\u001B[0m                       Traceback (most recent call last)",
      "\u001B[1;32m~\\anaconda3\\lib\\site-packages\\transformers\\utils\\import_utils.py\u001B[0m in \u001B[0;36m_get_module\u001B[1;34m(self, module_name)\u001B[0m\n\u001B[0;32m   1075\u001B[0m PYTORCH_QUANTIZATION_IMPORT_ERROR = \"\"\"\n\u001B[1;32m-> 1076\u001B[1;33m \u001B[1;33m{\u001B[0m\u001B[1;36m0\u001B[0m\u001B[1;33m}\u001B[0m \u001B[0mrequires\u001B[0m \u001B[0mthe\u001B[0m \u001B[0mpytorch\u001B[0m\u001B[1;33m-\u001B[0m\u001B[0mquantization\u001B[0m \u001B[0mlibrary\u001B[0m \u001B[0mbut\u001B[0m \u001B[0mit\u001B[0m \u001B[0mwas\u001B[0m \u001B[1;32mnot\u001B[0m \u001B[0mfound\u001B[0m \u001B[1;32min\u001B[0m \u001B[0myour\u001B[0m \u001B[0menvironment\u001B[0m\u001B[1;33m.\u001B[0m \u001B[0mYou\u001B[0m \u001B[0mcan\u001B[0m \u001B[0minstall\u001B[0m \u001B[0mit\u001B[0m \u001B[1;32mwith\u001B[0m \u001B[0mpip\u001B[0m\u001B[1;33m:\u001B[0m\u001B[1;33m\u001B[0m\u001B[1;33m\u001B[0m\u001B[0m\n\u001B[0m\u001B[0;32m   1077\u001B[0m \u001B[0;31m`\u001B[0m\u001B[0mpip\u001B[0m \u001B[0minstall\u001B[0m \u001B[0mpytorch\u001B[0m\u001B[1;33m-\u001B[0m\u001B[0mquantization\u001B[0m \u001B[1;33m-\u001B[0m\u001B[1;33m-\u001B[0m\u001B[0mextra\u001B[0m\u001B[1;33m-\u001B[0m\u001B[0mindex\u001B[0m\u001B[1;33m-\u001B[0m\u001B[0murl\u001B[0m \u001B[0mhttps\u001B[0m\u001B[1;33m:\u001B[0m\u001B[1;33m//\u001B[0m\u001B[0mpypi\u001B[0m\u001B[1;33m.\u001B[0m\u001B[0mngc\u001B[0m\u001B[1;33m.\u001B[0m\u001B[0mnvidia\u001B[0m\u001B[1;33m.\u001B[0m\u001B[0mcom\u001B[0m\u001B[0;31m`\u001B[0m\u001B[1;33m\u001B[0m\u001B[1;33m\u001B[0m\u001B[0m\n",
      "\u001B[1;32m~\\anaconda3\\lib\\importlib\\__init__.py\u001B[0m in \u001B[0;36mimport_module\u001B[1;34m(name, package)\u001B[0m\n\u001B[0;32m    126\u001B[0m             \u001B[0mlevel\u001B[0m \u001B[1;33m+=\u001B[0m \u001B[1;36m1\u001B[0m\u001B[1;33m\u001B[0m\u001B[1;33m\u001B[0m\u001B[0m\n\u001B[1;32m--> 127\u001B[1;33m     \u001B[1;32mreturn\u001B[0m \u001B[0m_bootstrap\u001B[0m\u001B[1;33m.\u001B[0m\u001B[0m_gcd_import\u001B[0m\u001B[1;33m(\u001B[0m\u001B[0mname\u001B[0m\u001B[1;33m[\u001B[0m\u001B[0mlevel\u001B[0m\u001B[1;33m:\u001B[0m\u001B[1;33m]\u001B[0m\u001B[1;33m,\u001B[0m \u001B[0mpackage\u001B[0m\u001B[1;33m,\u001B[0m \u001B[0mlevel\u001B[0m\u001B[1;33m)\u001B[0m\u001B[1;33m\u001B[0m\u001B[1;33m\u001B[0m\u001B[0m\n\u001B[0m\u001B[0;32m    128\u001B[0m \u001B[1;33m\u001B[0m\u001B[0m\n",
      "\u001B[1;32m~\\anaconda3\\lib\\importlib\\_bootstrap.py\u001B[0m in \u001B[0;36m_gcd_import\u001B[1;34m(name, package, level)\u001B[0m\n",
      "\u001B[1;32m~\\anaconda3\\lib\\importlib\\_bootstrap.py\u001B[0m in \u001B[0;36m_find_and_load\u001B[1;34m(name, import_)\u001B[0m\n",
      "\u001B[1;32m~\\anaconda3\\lib\\importlib\\_bootstrap.py\u001B[0m in \u001B[0;36m_find_and_load_unlocked\u001B[1;34m(name, import_)\u001B[0m\n",
      "\u001B[1;31mModuleNotFoundError\u001B[0m: No module named 'transformers.models.transfo_xl.configuration_transfo_xl'",
      "\nThe above exception was the direct cause of the following exception:\n",
      "\u001B[1;31mRuntimeError\u001B[0m                              Traceback (most recent call last)",
      "\u001B[1;32m~\\AppData\\Local\\Temp\\ipykernel_23628\\2456013329.py\u001B[0m in \u001B[0;36m<module>\u001B[1;34m\u001B[0m\n\u001B[0;32m      1\u001B[0m \u001B[1;32mfrom\u001B[0m \u001B[0mtransformers\u001B[0m \u001B[1;32mimport\u001B[0m \u001B[0mAutoModelForSequenceClassification\u001B[0m\u001B[1;33m\u001B[0m\u001B[1;33m\u001B[0m\u001B[0m\n\u001B[0;32m      2\u001B[0m \u001B[1;32mimport\u001B[0m \u001B[0mtorch\u001B[0m\u001B[1;33m\u001B[0m\u001B[1;33m\u001B[0m\u001B[0m\n\u001B[1;32m----> 3\u001B[1;33m \u001B[0mmodel\u001B[0m \u001B[1;33m=\u001B[0m \u001B[0mAutoModelForSequenceClassification\u001B[0m\u001B[1;33m.\u001B[0m\u001B[0mfrom_pretrained\u001B[0m\u001B[1;33m(\u001B[0m\u001B[1;34m\"siebert/sentiment-roberta-large-english\"\u001B[0m\u001B[1;33m)\u001B[0m\u001B[1;33m\u001B[0m\u001B[1;33m\u001B[0m\u001B[0m\n\u001B[0m",
      "\u001B[1;32m~\\anaconda3\\lib\\site-packages\\transformers\\models\\auto\\auto_factory.py\u001B[0m in \u001B[0;36mfrom_pretrained\u001B[1;34m(cls, pretrained_model_name_or_path, *model_args, **kwargs)\u001B[0m\n\u001B[0;32m    459\u001B[0m             \u001B[1;34m\"revision\"\u001B[0m\u001B[1;33m,\u001B[0m\u001B[1;33m\u001B[0m\u001B[1;33m\u001B[0m\u001B[0m\n\u001B[0;32m    460\u001B[0m             \u001B[1;34m\"subfolder\"\u001B[0m\u001B[1;33m,\u001B[0m\u001B[1;33m\u001B[0m\u001B[1;33m\u001B[0m\u001B[0m\n\u001B[1;32m--> 461\u001B[1;33m             \u001B[1;34m\"use_auth_token\"\u001B[0m\u001B[1;33m,\u001B[0m\u001B[1;33m\u001B[0m\u001B[1;33m\u001B[0m\u001B[0m\n\u001B[0m\u001B[0;32m    462\u001B[0m             \u001B[1;34m\"token\"\u001B[0m\u001B[1;33m,\u001B[0m\u001B[1;33m\u001B[0m\u001B[1;33m\u001B[0m\u001B[0m\n\u001B[0;32m    463\u001B[0m         ]\n",
      "\u001B[1;32m~\\anaconda3\\lib\\site-packages\\transformers\\models\\auto\\auto_factory.py\u001B[0m in \u001B[0;36mkeys\u001B[1;34m(self)\u001B[0m\n\u001B[0;32m    605\u001B[0m         \u001B[0muse_timm\u001B[0m \u001B[1;33m=\u001B[0m \u001B[0mkwargs\u001B[0m\u001B[1;33m.\u001B[0m\u001B[0mpop\u001B[0m\u001B[1;33m(\u001B[0m\u001B[1;34m\"use_timm_backbone\"\u001B[0m\u001B[1;33m,\u001B[0m \u001B[1;32mTrue\u001B[0m\u001B[1;33m)\u001B[0m\u001B[1;33m\u001B[0m\u001B[1;33m\u001B[0m\u001B[0m\n\u001B[0;32m    606\u001B[0m         \u001B[1;32mif\u001B[0m \u001B[1;32mnot\u001B[0m \u001B[0muse_timm\u001B[0m\u001B[1;33m:\u001B[0m\u001B[1;33m\u001B[0m\u001B[1;33m\u001B[0m\u001B[0m\n\u001B[1;32m--> 607\u001B[1;33m             \u001B[1;32mraise\u001B[0m \u001B[0mValueError\u001B[0m\u001B[1;33m(\u001B[0m\u001B[1;34m\"`use_timm_backbone` must be `True` for timm backbones\"\u001B[0m\u001B[1;33m)\u001B[0m\u001B[1;33m\u001B[0m\u001B[1;33m\u001B[0m\u001B[0m\n\u001B[0m\u001B[0;32m    608\u001B[0m \u001B[1;33m\u001B[0m\u001B[0m\n\u001B[0;32m    609\u001B[0m         \u001B[1;32mif\u001B[0m \u001B[0mkwargs\u001B[0m\u001B[1;33m.\u001B[0m\u001B[0mget\u001B[0m\u001B[1;33m(\u001B[0m\u001B[1;34m\"out_features\"\u001B[0m\u001B[1;33m,\u001B[0m \u001B[1;32mNone\u001B[0m\u001B[1;33m)\u001B[0m \u001B[1;32mis\u001B[0m \u001B[1;32mnot\u001B[0m \u001B[1;32mNone\u001B[0m\u001B[1;33m:\u001B[0m\u001B[1;33m\u001B[0m\u001B[1;33m\u001B[0m\u001B[0m\n",
      "\u001B[1;32m~\\anaconda3\\lib\\site-packages\\transformers\\models\\auto\\auto_factory.py\u001B[0m in \u001B[0;36m<listcomp>\u001B[1;34m(.0)\u001B[0m\n\u001B[0;32m    606\u001B[0m         \u001B[1;32mif\u001B[0m \u001B[1;32mnot\u001B[0m \u001B[0muse_timm\u001B[0m\u001B[1;33m:\u001B[0m\u001B[1;33m\u001B[0m\u001B[1;33m\u001B[0m\u001B[0m\n\u001B[0;32m    607\u001B[0m             \u001B[1;32mraise\u001B[0m \u001B[0mValueError\u001B[0m\u001B[1;33m(\u001B[0m\u001B[1;34m\"`use_timm_backbone` must be `True` for timm backbones\"\u001B[0m\u001B[1;33m)\u001B[0m\u001B[1;33m\u001B[0m\u001B[1;33m\u001B[0m\u001B[0m\n\u001B[1;32m--> 608\u001B[1;33m \u001B[1;33m\u001B[0m\u001B[0m\n\u001B[0m\u001B[0;32m    609\u001B[0m         \u001B[1;32mif\u001B[0m \u001B[0mkwargs\u001B[0m\u001B[1;33m.\u001B[0m\u001B[0mget\u001B[0m\u001B[1;33m(\u001B[0m\u001B[1;34m\"out_features\"\u001B[0m\u001B[1;33m,\u001B[0m \u001B[1;32mNone\u001B[0m\u001B[1;33m)\u001B[0m \u001B[1;32mis\u001B[0m \u001B[1;32mnot\u001B[0m \u001B[1;32mNone\u001B[0m\u001B[1;33m:\u001B[0m\u001B[1;33m\u001B[0m\u001B[1;33m\u001B[0m\u001B[0m\n\u001B[0;32m    610\u001B[0m             \u001B[1;32mraise\u001B[0m \u001B[0mValueError\u001B[0m\u001B[1;33m(\u001B[0m\u001B[1;34m\"Cannot specify `out_features` for timm backbones\"\u001B[0m\u001B[1;33m)\u001B[0m\u001B[1;33m\u001B[0m\u001B[1;33m\u001B[0m\u001B[0m\n",
      "\u001B[1;32m~\\anaconda3\\lib\\site-packages\\transformers\\models\\auto\\auto_factory.py\u001B[0m in \u001B[0;36m_load_attr_from_module\u001B[1;34m(self, model_type, attr)\u001B[0m\n\u001B[0;32m    602\u001B[0m \u001B[1;33m\u001B[0m\u001B[0m\n\u001B[0;32m    603\u001B[0m         \u001B[0mconfig\u001B[0m \u001B[1;33m=\u001B[0m \u001B[0mkwargs\u001B[0m\u001B[1;33m.\u001B[0m\u001B[0mpop\u001B[0m\u001B[1;33m(\u001B[0m\u001B[1;34m\"config\"\u001B[0m\u001B[1;33m,\u001B[0m \u001B[0mTimmBackboneConfig\u001B[0m\u001B[1;33m(\u001B[0m\u001B[1;33m)\u001B[0m\u001B[1;33m)\u001B[0m\u001B[1;33m\u001B[0m\u001B[1;33m\u001B[0m\u001B[0m\n\u001B[1;32m--> 604\u001B[1;33m \u001B[1;33m\u001B[0m\u001B[0m\n\u001B[0m\u001B[0;32m    605\u001B[0m         \u001B[0muse_timm\u001B[0m \u001B[1;33m=\u001B[0m \u001B[0mkwargs\u001B[0m\u001B[1;33m.\u001B[0m\u001B[0mpop\u001B[0m\u001B[1;33m(\u001B[0m\u001B[1;34m\"use_timm_backbone\"\u001B[0m\u001B[1;33m,\u001B[0m \u001B[1;32mTrue\u001B[0m\u001B[1;33m)\u001B[0m\u001B[1;33m\u001B[0m\u001B[1;33m\u001B[0m\u001B[0m\n\u001B[0;32m    606\u001B[0m         \u001B[1;32mif\u001B[0m \u001B[1;32mnot\u001B[0m \u001B[0muse_timm\u001B[0m\u001B[1;33m:\u001B[0m\u001B[1;33m\u001B[0m\u001B[1;33m\u001B[0m\u001B[0m\n",
      "\u001B[1;32m~\\anaconda3\\lib\\site-packages\\transformers\\models\\auto\\auto_factory.py\u001B[0m in \u001B[0;36mgetattribute_from_module\u001B[1;34m(module, attr)\u001B[0m\n\u001B[0;32m    551\u001B[0m         \u001B[1;32mif\u001B[0m \u001B[0mhas_remote_code\u001B[0m \u001B[1;32mand\u001B[0m \u001B[0mtrust_remote_code\u001B[0m\u001B[1;33m:\u001B[0m\u001B[1;33m\u001B[0m\u001B[1;33m\u001B[0m\u001B[0m\n\u001B[0;32m    552\u001B[0m             \u001B[0mclass_ref\u001B[0m \u001B[1;33m=\u001B[0m \u001B[0mconfig\u001B[0m\u001B[1;33m.\u001B[0m\u001B[0mauto_map\u001B[0m\u001B[1;33m[\u001B[0m\u001B[0mcls\u001B[0m\u001B[1;33m.\u001B[0m\u001B[0m__name__\u001B[0m\u001B[1;33m]\u001B[0m\u001B[1;33m\u001B[0m\u001B[1;33m\u001B[0m\u001B[0m\n\u001B[1;32m--> 553\u001B[1;33m             model_class = get_class_from_dynamic_module(\n\u001B[0m\u001B[0;32m    554\u001B[0m                 \u001B[0mclass_ref\u001B[0m\u001B[1;33m,\u001B[0m \u001B[0mpretrained_model_name_or_path\u001B[0m\u001B[1;33m,\u001B[0m \u001B[0mcode_revision\u001B[0m\u001B[1;33m=\u001B[0m\u001B[0mcode_revision\u001B[0m\u001B[1;33m,\u001B[0m \u001B[1;33m**\u001B[0m\u001B[0mhub_kwargs\u001B[0m\u001B[1;33m,\u001B[0m \u001B[1;33m**\u001B[0m\u001B[0mkwargs\u001B[0m\u001B[1;33m\u001B[0m\u001B[1;33m\u001B[0m\u001B[0m\n\u001B[0;32m    555\u001B[0m             )\n",
      "\u001B[1;32m~\\anaconda3\\lib\\site-packages\\transformers\\utils\\import_utils.py\u001B[0m in \u001B[0;36m__getattr__\u001B[1;34m(self, name)\u001B[0m\n\u001B[0;32m   1064\u001B[0m \u001B[1;33m{\u001B[0m\u001B[1;36m0\u001B[0m\u001B[1;33m}\u001B[0m \u001B[0mrequires\u001B[0m \u001B[0mthe\u001B[0m \u001B[0mpython\u001B[0m\u001B[1;33m-\u001B[0m\u001B[0mLevenshtein\u001B[0m \u001B[0mlibrary\u001B[0m \u001B[0mbut\u001B[0m \u001B[0mit\u001B[0m \u001B[0mwas\u001B[0m \u001B[1;32mnot\u001B[0m \u001B[0mfound\u001B[0m \u001B[1;32min\u001B[0m \u001B[0myour\u001B[0m \u001B[0menvironment\u001B[0m\u001B[1;33m.\u001B[0m \u001B[0mYou\u001B[0m \u001B[0mcan\u001B[0m \u001B[0minstall\u001B[0m \u001B[0mit\u001B[0m \u001B[1;32mwith\u001B[0m \u001B[0mpip\u001B[0m\u001B[1;33m:\u001B[0m\u001B[0;31m \u001B[0m\u001B[0;31m`\u001B[0m\u001B[0mpip\u001B[0m\u001B[1;33m\u001B[0m\u001B[1;33m\u001B[0m\u001B[0m\n\u001B[0;32m   1065\u001B[0m \u001B[0minstall\u001B[0m \u001B[0mpython\u001B[0m\u001B[1;33m-\u001B[0m\u001B[0mLevenshtein\u001B[0m\u001B[0;31m`\u001B[0m\u001B[1;33m.\u001B[0m \u001B[0mPlease\u001B[0m \u001B[0mnote\u001B[0m \u001B[0mthat\u001B[0m \u001B[0myou\u001B[0m \u001B[0mmay\u001B[0m \u001B[0mneed\u001B[0m \u001B[0mto\u001B[0m \u001B[0mrestart\u001B[0m \u001B[0myour\u001B[0m \u001B[0mruntime\u001B[0m \u001B[0mafter\u001B[0m \u001B[0minstallation\u001B[0m\u001B[1;33m.\u001B[0m\u001B[1;33m\u001B[0m\u001B[1;33m\u001B[0m\u001B[0m\n\u001B[1;32m-> 1066\u001B[1;33m \"\"\"\n\u001B[0m\u001B[0;32m   1067\u001B[0m \u001B[1;33m\u001B[0m\u001B[0m\n\u001B[0;32m   1068\u001B[0m \u001B[1;31m# docstyle-ignore\u001B[0m\u001B[1;33m\u001B[0m\u001B[1;33m\u001B[0m\u001B[0m\n",
      "\u001B[1;32m~\\anaconda3\\lib\\site-packages\\transformers\\utils\\import_utils.py\u001B[0m in \u001B[0;36m_get_module\u001B[1;34m(self, module_name)\u001B[0m\n\u001B[0;32m   1076\u001B[0m \u001B[1;33m{\u001B[0m\u001B[1;36m0\u001B[0m\u001B[1;33m}\u001B[0m \u001B[0mrequires\u001B[0m \u001B[0mthe\u001B[0m \u001B[0mpytorch\u001B[0m\u001B[1;33m-\u001B[0m\u001B[0mquantization\u001B[0m \u001B[0mlibrary\u001B[0m \u001B[0mbut\u001B[0m \u001B[0mit\u001B[0m \u001B[0mwas\u001B[0m \u001B[1;32mnot\u001B[0m \u001B[0mfound\u001B[0m \u001B[1;32min\u001B[0m \u001B[0myour\u001B[0m \u001B[0menvironment\u001B[0m\u001B[1;33m.\u001B[0m \u001B[0mYou\u001B[0m \u001B[0mcan\u001B[0m \u001B[0minstall\u001B[0m \u001B[0mit\u001B[0m \u001B[1;32mwith\u001B[0m \u001B[0mpip\u001B[0m\u001B[1;33m:\u001B[0m\u001B[1;33m\u001B[0m\u001B[1;33m\u001B[0m\u001B[0m\n\u001B[0;32m   1077\u001B[0m \u001B[0;31m`\u001B[0m\u001B[0mpip\u001B[0m \u001B[0minstall\u001B[0m \u001B[0mpytorch\u001B[0m\u001B[1;33m-\u001B[0m\u001B[0mquantization\u001B[0m \u001B[1;33m-\u001B[0m\u001B[1;33m-\u001B[0m\u001B[0mextra\u001B[0m\u001B[1;33m-\u001B[0m\u001B[0mindex\u001B[0m\u001B[1;33m-\u001B[0m\u001B[0murl\u001B[0m \u001B[0mhttps\u001B[0m\u001B[1;33m:\u001B[0m\u001B[1;33m//\u001B[0m\u001B[0mpypi\u001B[0m\u001B[1;33m.\u001B[0m\u001B[0mngc\u001B[0m\u001B[1;33m.\u001B[0m\u001B[0mnvidia\u001B[0m\u001B[1;33m.\u001B[0m\u001B[0mcom\u001B[0m\u001B[0;31m`\u001B[0m\u001B[1;33m\u001B[0m\u001B[1;33m\u001B[0m\u001B[0m\n\u001B[1;32m-> 1078\u001B[1;33m \u001B[0mPlease\u001B[0m \u001B[0mnote\u001B[0m \u001B[0mthat\u001B[0m \u001B[0myou\u001B[0m \u001B[0mmay\u001B[0m \u001B[0mneed\u001B[0m \u001B[0mto\u001B[0m \u001B[0mrestart\u001B[0m \u001B[0myour\u001B[0m \u001B[0mruntime\u001B[0m \u001B[0mafter\u001B[0m \u001B[0minstallation\u001B[0m\u001B[1;33m.\u001B[0m\u001B[1;33m\u001B[0m\u001B[1;33m\u001B[0m\u001B[0m\n\u001B[0m\u001B[0;32m   1079\u001B[0m \"\"\"\n\u001B[0;32m   1080\u001B[0m \u001B[1;33m\u001B[0m\u001B[0m\n",
      "\u001B[1;31mRuntimeError\u001B[0m: Failed to import transformers.models.transfo_xl.configuration_transfo_xl because of the following error (look up to see its traceback):\nNo module named 'transformers.models.transfo_xl.configuration_transfo_xl'"
     ]
    }
   ],
   "source": [
    "from transformers import AutoModelForSequenceClassification\n",
    "import torch\n",
    "model = AutoModelForSequenceClassification.from_pretrained(\"siebert/sentiment-roberta-large-english\")"
   ],
   "metadata": {
    "collapsed": false,
    "ExecuteTime": {
     "end_time": "2024-02-16T11:13:31.248537500Z",
     "start_time": "2024-02-16T11:13:31.074201300Z"
    }
   },
   "id": "45705f0482582e6f",
   "execution_count": 20
  },
  {
   "cell_type": "code",
   "outputs": [],
   "source": [
    "# deuxième étape : définir la fonction qui va classifier les données\n",
    "def get_sentiment(text):\n",
    "    inputs = tokenizer(text, return_tensors=\"pt\", padding=True, truncation=True)\n",
    "    outputs = model(**inputs)\n",
    "    predicted = torch.nn.functional.softmax(outputs.logits, dim=-1)\n",
    "    return predicted"
   ],
   "metadata": {
    "collapsed": false,
    "ExecuteTime": {
     "end_time": "2024-02-16T10:27:25.713603Z",
     "start_time": "2024-02-16T10:27:25.703274100Z"
    }
   },
   "id": "400ff74aa1643463"
  },
  {
   "cell_type": "code",
   "outputs": [],
   "source": [
    "# troisième étape : appliquer la fonction sur les données\n",
    "data[\"revue/score\"] = data[\"revue/texte\"].apply(get_sentiment)"
   ],
   "metadata": {
    "collapsed": false,
    "ExecuteTime": {
     "start_time": "2024-02-16T10:27:25.709132500Z"
    }
   },
   "id": "dd2ee74424193bc6"
  },
  {
   "cell_type": "code",
   "outputs": [],
   "source": [
    "# quatrième étape : sauvegarder les données\n",
    "data.to_csv(\"../data/Sample_Books_rating_with_sentiment.csv\", index=False)"
   ],
   "metadata": {
    "collapsed": false
   },
   "id": "99e29f1c36e52c83"
  },
  {
   "cell_type": "code",
   "outputs": [],
   "source": [
    "# cinquième étape : vérifier les données\n",
    "data.head()"
   ],
   "metadata": {
    "collapsed": false
   },
   "id": "cdc9c6791013b364"
  }
 ],
 "metadata": {
  "kernelspec": {
   "display_name": "Python 3",
   "language": "python",
   "name": "python3"
  },
  "language_info": {
   "codemirror_mode": {
    "name": "ipython",
    "version": 2
   },
   "file_extension": ".py",
   "mimetype": "text/x-python",
   "name": "python",
   "nbconvert_exporter": "python",
   "pygments_lexer": "ipython2",
   "version": "2.7.6"
  }
 },
 "nbformat": 4,
 "nbformat_minor": 5
}
