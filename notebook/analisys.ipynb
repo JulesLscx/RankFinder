{
 "cells": [
  {
   "cell_type": "code",
   "execution_count": 2,
   "metadata": {},
   "outputs": [
    {
     "name": "stderr",
     "output_type": "stream",
     "text": [
      "C:\\Users\\jules\\AppData\\Local\\Temp\\ipykernel_4044\\727113066.py:1: DeprecationWarning: \n",
      "Pyarrow will become a required dependency of pandas in the next major release of pandas (pandas 3.0),\n",
      "(to allow more performant data types, such as the Arrow string type, and better interoperability with other libraries)\n",
      "but was not found to be installed on your system.\n",
      "If this would cause problems for you,\n",
      "please provide us feedback at https://github.com/pandas-dev/pandas/issues/54466\n",
      "        \n",
      "  import pandas as pd\n",
      "[nltk_data] Downloading package stopwords to\n",
      "[nltk_data]     C:\\Users\\jules\\AppData\\Roaming\\nltk_data...\n",
      "[nltk_data]   Package stopwords is already up-to-date!\n"
     ]
    }
   ],
   "source": [
    "import pandas as pd\n",
    "from collections import Counter\n",
    "import nltk\n",
    "nltk.download('stopwords')\n",
    "from nltk.corpus import stopwords\n",
    "from nltk.tokenize import word_tokenize\n",
    "import warnings\n",
    "import re\n",
    "warnings.filterwarnings(\"ignore\")\n"
   ]
  },
  {
   "cell_type": "code",
   "execution_count": 3,
   "metadata": {},
   "outputs": [],
   "source": [
    "PATH_RATING = '../data/Books_rating_t.csv'\n",
    "PATH_BOOKS = '../data/books_data_t.csv'\n",
    "PATH_SAMPLE_RATING = '../data/Sample_Books_rating.csv'"
   ]
  },
  {
   "cell_type": "code",
   "execution_count": 25,
   "metadata": {},
   "outputs": [],
   "source": [
    "def load_data(*,n_rating:int=-1):\n",
    "    rating = pd.read_csv(PATH_RATING)\n",
    "    books = pd.read_csv(PATH_BOOKS)\n",
    "    return rating[:n_rating], books\n",
    "\n",
    "def load_sample_data():\n",
    "    rating = pd.read_csv(PATH_SAMPLE_RATING)\n",
    "    books = pd.read_csv(PATH_BOOKS)\n",
    "    return rating, books"
   ]
  },
  {
   "cell_type": "code",
   "execution_count": 5,
   "metadata": {},
   "outputs": [],
   "source": [
    "def find_book_by_name(books:pd.DataFrame, book_name:str):\n",
    "    return books[books['Titre'] == book_name]"
   ]
  },
  {
   "cell_type": "code",
   "execution_count": 6,
   "metadata": {},
   "outputs": [],
   "source": [
    "rating, books = load_data()"
   ]
  },
  {
   "cell_type": "code",
   "execution_count": 7,
   "metadata": {},
   "outputs": [
    {
     "data": {
      "text/html": [
       "<div>\n",
       "<style scoped>\n",
       "    .dataframe tbody tr th:only-of-type {\n",
       "        vertical-align: middle;\n",
       "    }\n",
       "\n",
       "    .dataframe tbody tr th {\n",
       "        vertical-align: top;\n",
       "    }\n",
       "\n",
       "    .dataframe thead th {\n",
       "        text-align: right;\n",
       "    }\n",
       "</style>\n",
       "<table border=\"1\" class=\"dataframe\">\n",
       "  <thead>\n",
       "    <tr style=\"text-align: right;\">\n",
       "      <th></th>\n",
       "      <th>Titre</th>\n",
       "      <th>Description</th>\n",
       "      <th>Auteurs</th>\n",
       "      <th>Image</th>\n",
       "      <th>Lien Google</th>\n",
       "      <th>Editeur</th>\n",
       "      <th>Date publication</th>\n",
       "      <th>infoLink</th>\n",
       "      <th>Genre</th>\n",
       "      <th>Nb scores</th>\n",
       "    </tr>\n",
       "  </thead>\n",
       "  <tbody>\n",
       "    <tr>\n",
       "      <th>62999</th>\n",
       "      <td>Harry Potter and the Chamber of Secrets</td>\n",
       "      <td>Witchcraft, wizardry - fiction.</td>\n",
       "      <td>['J. K. Rowling']</td>\n",
       "      <td>http://books.google.com/books/content?id=nmXTy...</td>\n",
       "      <td>http://books.google.com/books?id=nmXTy4FPfcwC&amp;...</td>\n",
       "      <td>Raincoast Books</td>\n",
       "      <td>1999</td>\n",
       "      <td>http://books.google.com/books?id=nmXTy4FPfcwC&amp;...</td>\n",
       "      <td>['Juvenile Fiction']</td>\n",
       "      <td>14.0</td>\n",
       "    </tr>\n",
       "  </tbody>\n",
       "</table>\n",
       "</div>"
      ],
      "text/plain": [
       "                                         Titre  \\\n",
       "62999  Harry Potter and the Chamber of Secrets   \n",
       "\n",
       "                           Description            Auteurs  \\\n",
       "62999  Witchcraft, wizardry - fiction.  ['J. K. Rowling']   \n",
       "\n",
       "                                                   Image  \\\n",
       "62999  http://books.google.com/books/content?id=nmXTy...   \n",
       "\n",
       "                                             Lien Google          Editeur  \\\n",
       "62999  http://books.google.com/books?id=nmXTy4FPfcwC&...  Raincoast Books   \n",
       "\n",
       "      Date publication                                           infoLink  \\\n",
       "62999             1999  http://books.google.com/books?id=nmXTy4FPfcwC&...   \n",
       "\n",
       "                      Genre  Nb scores  \n",
       "62999  ['Juvenile Fiction']       14.0  "
      ]
     },
     "execution_count": 7,
     "metadata": {},
     "output_type": "execute_result"
    }
   ],
   "source": [
    "find_book_by_name(books, book_name='Harry Potter and the Chamber of Secrets')"
   ]
  },
  {
   "cell_type": "code",
   "execution_count": 8,
   "metadata": {},
   "outputs": [],
   "source": [
    "def get_most_scored_book(books:pd.DataFrame, n=10):\n",
    "    books['Nb scores'] = pd.to_numeric(books['Nb scores'], errors='coerce')\n",
    "    sorted_data = books.sort_values('Nb scores', ascending=False, inplace=False)\n",
    "    return sorted_data[:n]"
   ]
  },
  {
   "cell_type": "code",
   "execution_count": 9,
   "metadata": {},
   "outputs": [
    {
     "data": {
      "text/html": [
       "<div>\n",
       "<style scoped>\n",
       "    .dataframe tbody tr th:only-of-type {\n",
       "        vertical-align: middle;\n",
       "    }\n",
       "\n",
       "    .dataframe tbody tr th {\n",
       "        vertical-align: top;\n",
       "    }\n",
       "\n",
       "    .dataframe thead th {\n",
       "        text-align: right;\n",
       "    }\n",
       "</style>\n",
       "<table border=\"1\" class=\"dataframe\">\n",
       "  <thead>\n",
       "    <tr style=\"text-align: right;\">\n",
       "      <th></th>\n",
       "      <th>Titre</th>\n",
       "      <th>Description</th>\n",
       "      <th>Auteurs</th>\n",
       "      <th>Image</th>\n",
       "      <th>Lien Google</th>\n",
       "      <th>Editeur</th>\n",
       "      <th>Date publication</th>\n",
       "      <th>infoLink</th>\n",
       "      <th>Genre</th>\n",
       "      <th>Nb scores</th>\n",
       "    </tr>\n",
       "  </thead>\n",
       "  <tbody>\n",
       "    <tr>\n",
       "      <th>26834</th>\n",
       "      <td>The Alchemist</td>\n",
       "      <td>\"My heart is afraid that it will have to suffe...</td>\n",
       "      <td>['Paulo Coelho']</td>\n",
       "      <td>http://books.google.com/books/content?id=pTr44...</td>\n",
       "      <td>http://books.google.com/books?id=pTr44Sx6oWQC&amp;...</td>\n",
       "      <td>Harper Collins</td>\n",
       "      <td>25/04/2006</td>\n",
       "      <td>http://books.google.com/books?id=pTr44Sx6oWQC&amp;...</td>\n",
       "      <td>['Fiction']</td>\n",
       "      <td>4895.0</td>\n",
       "    </tr>\n",
       "    <tr>\n",
       "      <th>62005</th>\n",
       "      <td>A Mission to Millions; The Story of Ernie Alle...</td>\n",
       "      <td>#1 NEW YORK TIMES BESTSELLER • NOW A MAJOR MOT...</td>\n",
       "      <td>['Laura Hillenbrand']</td>\n",
       "      <td>http://books.google.com/books/content?id=1PeLD...</td>\n",
       "      <td>http://books.google.com/books?id=1PeLDQAAQBAJ&amp;...</td>\n",
       "      <td>Random House Trade Paperbacks</td>\n",
       "      <td>29/07/2014</td>\n",
       "      <td>http://books.google.com/books?id=1PeLDQAAQBAJ&amp;...</td>\n",
       "      <td>['Biography &amp; Autobiography']</td>\n",
       "      <td>4572.0</td>\n",
       "    </tr>\n",
       "    <tr>\n",
       "      <th>76345</th>\n",
       "      <td>Unbroken</td>\n",
       "      <td>#1 NEW YORK TIMES BESTSELLER • NOW A MAJOR MOT...</td>\n",
       "      <td>['Laura Hillenbrand']</td>\n",
       "      <td>http://books.google.com/books/content?id=1PeLD...</td>\n",
       "      <td>http://books.google.com/books?id=1PeLDQAAQBAJ&amp;...</td>\n",
       "      <td>Random House Trade Paperbacks</td>\n",
       "      <td>29/07/2014</td>\n",
       "      <td>http://books.google.com/books?id=1PeLDQAAQBAJ&amp;...</td>\n",
       "      <td>['Biography &amp; Autobiography']</td>\n",
       "      <td>4572.0</td>\n",
       "    </tr>\n",
       "    <tr>\n",
       "      <th>128081</th>\n",
       "      <td>Blue Like Jazz: Nonreligious Thoughts on Chris...</td>\n",
       "      <td>A popular minister recounts his zealous early ...</td>\n",
       "      <td>['Donald Miller']</td>\n",
       "      <td>http://books.google.com/books/content?id=fNC3f...</td>\n",
       "      <td>http://books.google.nl/books?id=fNC3fdxYgZMC&amp;p...</td>\n",
       "      <td>Thomas Nelson Inc</td>\n",
       "      <td>2012-04</td>\n",
       "      <td>http://books.google.nl/books?id=fNC3fdxYgZMC&amp;d...</td>\n",
       "      <td>['Biography &amp; Autobiography']</td>\n",
       "      <td>4562.0</td>\n",
       "    </tr>\n",
       "    <tr>\n",
       "      <th>57822</th>\n",
       "      <td>Eclipse</td>\n",
       "      <td>As the love triangle heats up in the third boo...</td>\n",
       "      <td>['Stephenie Meyer']</td>\n",
       "      <td>http://books.google.com/books/content?id=lw99O...</td>\n",
       "      <td>http://books.google.com/books?id=lw99Oii9R90C&amp;...</td>\n",
       "      <td>Little, Brown Books for Young Readers</td>\n",
       "      <td>07/08/2007</td>\n",
       "      <td>https://play.google.com/store/books/details?id...</td>\n",
       "      <td>['Young Adult Fiction']</td>\n",
       "      <td>4392.0</td>\n",
       "    </tr>\n",
       "    <tr>\n",
       "      <th>127021</th>\n",
       "      <td>Redeeming Love</td>\n",
       "      <td>NATIONAL BESTSELLER • NOW A MAJOR MOTION PICTU...</td>\n",
       "      <td>['Francine Rivers']</td>\n",
       "      <td>http://books.google.com/books/content?id=I7eMl...</td>\n",
       "      <td>http://books.google.nl/books?id=I7eMlFZ-drcC&amp;p...</td>\n",
       "      <td>Multnomah</td>\n",
       "      <td>04/08/2009</td>\n",
       "      <td>https://play.google.com/store/books/details?id...</td>\n",
       "      <td>['Fiction']</td>\n",
       "      <td>4249.0</td>\n",
       "    </tr>\n",
       "    <tr>\n",
       "      <th>112603</th>\n",
       "      <td>A Walk in the Woods</td>\n",
       "      <td>Traces the author's adventurous trek along the...</td>\n",
       "      <td>['Bill Bryson']</td>\n",
       "      <td>http://books.google.com/books/content?id=a-8nn...</td>\n",
       "      <td>http://books.google.nl/books?id=a-8nnowMab0C&amp;q...</td>\n",
       "      <td>Broadway</td>\n",
       "      <td>1999</td>\n",
       "      <td>http://books.google.nl/books?id=a-8nnowMab0C&amp;d...</td>\n",
       "      <td>['Travel']</td>\n",
       "      <td>4234.0</td>\n",
       "    </tr>\n",
       "    <tr>\n",
       "      <th>162135</th>\n",
       "      <td>The Tipping Point: How Little Things Can Make ...</td>\n",
       "      <td>An introduction to the Tipping Point theory ex...</td>\n",
       "      <td>['Malcolm Gladwell']</td>\n",
       "      <td>http://books.google.com/books/content?id=w6V_P...</td>\n",
       "      <td>http://books.google.com/books?id=w6V_PwAACAAJ&amp;...</td>\n",
       "      <td>Wheeler Publishing, Incorporated</td>\n",
       "      <td>2003</td>\n",
       "      <td>http://books.google.com/books?id=w6V_PwAACAAJ&amp;...</td>\n",
       "      <td>['Reference']</td>\n",
       "      <td>4218.0</td>\n",
       "    </tr>\n",
       "    <tr>\n",
       "      <th>159446</th>\n",
       "      <td>Travel Light, Eat Heavy Along the Appalachian ...</td>\n",
       "      <td>God only knows what possessed Bill Bryson, a r...</td>\n",
       "      <td>['Bill Bryson']</td>\n",
       "      <td>http://books.google.com/books/content?id=WnyDg...</td>\n",
       "      <td>http://books.google.com/books?id=WnyDgV_vNhsC&amp;...</td>\n",
       "      <td>Anchor Canada</td>\n",
       "      <td>15/05/2012</td>\n",
       "      <td>http://books.google.com/books?id=WnyDgV_vNhsC&amp;...</td>\n",
       "      <td>['Travel']</td>\n",
       "      <td>4161.0</td>\n",
       "    </tr>\n",
       "    <tr>\n",
       "      <th>31260</th>\n",
       "      <td>Henrietta</td>\n",
       "      <td>#1 NEW YORK TIMES BESTSELLER • “The story of m...</td>\n",
       "      <td>['Rebecca Skloot']</td>\n",
       "      <td>http://books.google.com/books/content?id=GFevO...</td>\n",
       "      <td>http://books.google.com/books?id=GFevO-QxQDgC&amp;...</td>\n",
       "      <td>Crown</td>\n",
       "      <td>02/02/2010</td>\n",
       "      <td>https://play.google.com/store/books/details?id...</td>\n",
       "      <td>['Science']</td>\n",
       "      <td>4067.0</td>\n",
       "    </tr>\n",
       "  </tbody>\n",
       "</table>\n",
       "</div>"
      ],
      "text/plain": [
       "                                                    Titre  \\\n",
       "26834                                       The Alchemist   \n",
       "62005   A Mission to Millions; The Story of Ernie Alle...   \n",
       "76345                                            Unbroken   \n",
       "128081  Blue Like Jazz: Nonreligious Thoughts on Chris...   \n",
       "57822                                             Eclipse   \n",
       "127021                                     Redeeming Love   \n",
       "112603                                A Walk in the Woods   \n",
       "162135  The Tipping Point: How Little Things Can Make ...   \n",
       "159446  Travel Light, Eat Heavy Along the Appalachian ...   \n",
       "31260                                           Henrietta   \n",
       "\n",
       "                                              Description  \\\n",
       "26834   \"My heart is afraid that it will have to suffe...   \n",
       "62005   #1 NEW YORK TIMES BESTSELLER • NOW A MAJOR MOT...   \n",
       "76345   #1 NEW YORK TIMES BESTSELLER • NOW A MAJOR MOT...   \n",
       "128081  A popular minister recounts his zealous early ...   \n",
       "57822   As the love triangle heats up in the third boo...   \n",
       "127021  NATIONAL BESTSELLER • NOW A MAJOR MOTION PICTU...   \n",
       "112603  Traces the author's adventurous trek along the...   \n",
       "162135  An introduction to the Tipping Point theory ex...   \n",
       "159446  God only knows what possessed Bill Bryson, a r...   \n",
       "31260   #1 NEW YORK TIMES BESTSELLER • “The story of m...   \n",
       "\n",
       "                      Auteurs  \\\n",
       "26834        ['Paulo Coelho']   \n",
       "62005   ['Laura Hillenbrand']   \n",
       "76345   ['Laura Hillenbrand']   \n",
       "128081      ['Donald Miller']   \n",
       "57822     ['Stephenie Meyer']   \n",
       "127021    ['Francine Rivers']   \n",
       "112603        ['Bill Bryson']   \n",
       "162135   ['Malcolm Gladwell']   \n",
       "159446        ['Bill Bryson']   \n",
       "31260      ['Rebecca Skloot']   \n",
       "\n",
       "                                                    Image  \\\n",
       "26834   http://books.google.com/books/content?id=pTr44...   \n",
       "62005   http://books.google.com/books/content?id=1PeLD...   \n",
       "76345   http://books.google.com/books/content?id=1PeLD...   \n",
       "128081  http://books.google.com/books/content?id=fNC3f...   \n",
       "57822   http://books.google.com/books/content?id=lw99O...   \n",
       "127021  http://books.google.com/books/content?id=I7eMl...   \n",
       "112603  http://books.google.com/books/content?id=a-8nn...   \n",
       "162135  http://books.google.com/books/content?id=w6V_P...   \n",
       "159446  http://books.google.com/books/content?id=WnyDg...   \n",
       "31260   http://books.google.com/books/content?id=GFevO...   \n",
       "\n",
       "                                              Lien Google  \\\n",
       "26834   http://books.google.com/books?id=pTr44Sx6oWQC&...   \n",
       "62005   http://books.google.com/books?id=1PeLDQAAQBAJ&...   \n",
       "76345   http://books.google.com/books?id=1PeLDQAAQBAJ&...   \n",
       "128081  http://books.google.nl/books?id=fNC3fdxYgZMC&p...   \n",
       "57822   http://books.google.com/books?id=lw99Oii9R90C&...   \n",
       "127021  http://books.google.nl/books?id=I7eMlFZ-drcC&p...   \n",
       "112603  http://books.google.nl/books?id=a-8nnowMab0C&q...   \n",
       "162135  http://books.google.com/books?id=w6V_PwAACAAJ&...   \n",
       "159446  http://books.google.com/books?id=WnyDgV_vNhsC&...   \n",
       "31260   http://books.google.com/books?id=GFevO-QxQDgC&...   \n",
       "\n",
       "                                      Editeur Date publication  \\\n",
       "26834                          Harper Collins       25/04/2006   \n",
       "62005           Random House Trade Paperbacks       29/07/2014   \n",
       "76345           Random House Trade Paperbacks       29/07/2014   \n",
       "128081                      Thomas Nelson Inc          2012-04   \n",
       "57822   Little, Brown Books for Young Readers       07/08/2007   \n",
       "127021                              Multnomah       04/08/2009   \n",
       "112603                               Broadway             1999   \n",
       "162135       Wheeler Publishing, Incorporated             2003   \n",
       "159446                          Anchor Canada       15/05/2012   \n",
       "31260                                   Crown       02/02/2010   \n",
       "\n",
       "                                                 infoLink  \\\n",
       "26834   http://books.google.com/books?id=pTr44Sx6oWQC&...   \n",
       "62005   http://books.google.com/books?id=1PeLDQAAQBAJ&...   \n",
       "76345   http://books.google.com/books?id=1PeLDQAAQBAJ&...   \n",
       "128081  http://books.google.nl/books?id=fNC3fdxYgZMC&d...   \n",
       "57822   https://play.google.com/store/books/details?id...   \n",
       "127021  https://play.google.com/store/books/details?id...   \n",
       "112603  http://books.google.nl/books?id=a-8nnowMab0C&d...   \n",
       "162135  http://books.google.com/books?id=w6V_PwAACAAJ&...   \n",
       "159446  http://books.google.com/books?id=WnyDgV_vNhsC&...   \n",
       "31260   https://play.google.com/store/books/details?id...   \n",
       "\n",
       "                                Genre  Nb scores  \n",
       "26834                     ['Fiction']     4895.0  \n",
       "62005   ['Biography & Autobiography']     4572.0  \n",
       "76345   ['Biography & Autobiography']     4572.0  \n",
       "128081  ['Biography & Autobiography']     4562.0  \n",
       "57822         ['Young Adult Fiction']     4392.0  \n",
       "127021                    ['Fiction']     4249.0  \n",
       "112603                     ['Travel']     4234.0  \n",
       "162135                  ['Reference']     4218.0  \n",
       "159446                     ['Travel']     4161.0  \n",
       "31260                     ['Science']     4067.0  "
      ]
     },
     "execution_count": 9,
     "metadata": {},
     "output_type": "execute_result"
    }
   ],
   "source": [
    "get_most_scored_book(books, n=10)"
   ]
  },
  {
   "cell_type": "code",
   "execution_count": 12,
   "metadata": {},
   "outputs": [],
   "source": [
    "def corr_between_price_and_score(books:pd.DataFrame, rating:pd.DataFrame):\n",
    "    titre_score = rating[['Titre', 'revue/score', 'Prix']].dropna()\n",
    "    return titre_score[['Titre', 'Prix', 'revue/score']].corr(numeric_only=True)\n",
    "    "
   ]
  },
  {
   "cell_type": "code",
   "execution_count": 13,
   "metadata": {},
   "outputs": [
    {
     "data": {
      "text/html": [
       "<div>\n",
       "<style scoped>\n",
       "    .dataframe tbody tr th:only-of-type {\n",
       "        vertical-align: middle;\n",
       "    }\n",
       "\n",
       "    .dataframe tbody tr th {\n",
       "        vertical-align: top;\n",
       "    }\n",
       "\n",
       "    .dataframe thead th {\n",
       "        text-align: right;\n",
       "    }\n",
       "</style>\n",
       "<table border=\"1\" class=\"dataframe\">\n",
       "  <thead>\n",
       "    <tr style=\"text-align: right;\">\n",
       "      <th></th>\n",
       "      <th>Prix</th>\n",
       "      <th>revue/score</th>\n",
       "    </tr>\n",
       "  </thead>\n",
       "  <tbody>\n",
       "    <tr>\n",
       "      <th>Prix</th>\n",
       "      <td>1.000000</td>\n",
       "      <td>-0.010513</td>\n",
       "    </tr>\n",
       "    <tr>\n",
       "      <th>revue/score</th>\n",
       "      <td>-0.010513</td>\n",
       "      <td>1.000000</td>\n",
       "    </tr>\n",
       "  </tbody>\n",
       "</table>\n",
       "</div>"
      ],
      "text/plain": [
       "                 Prix  revue/score\n",
       "Prix         1.000000    -0.010513\n",
       "revue/score -0.010513     1.000000"
      ]
     },
     "execution_count": 13,
     "metadata": {},
     "output_type": "execute_result"
    }
   ],
   "source": [
    "corr_between_price_and_score(books, rating)"
   ]
  },
  {
   "cell_type": "code",
   "execution_count": 14,
   "metadata": {},
   "outputs": [],
   "source": [
    "def better_auteur(rating:pd.DataFrame, books:pd.DataFrame):\n",
    "    top_auteurs = rating.merge(books[['Titre','Auteurs']], on='Titre')\n",
    "    top_auteurs = top_auteurs[top_auteurs['revue/score'] == 5]\n",
    "    top_auteurs = top_auteurs.groupby('Auteurs').size().sort_values(ascending=False).head(10)\n",
    "    return top_auteurs"
   ]
  },
  {
   "cell_type": "code",
   "execution_count": 15,
   "metadata": {},
   "outputs": [
    {
     "data": {
      "text/plain": [
       "Auteurs\n",
       "['J. R. R. Tolkien']             29252\n",
       "['Jane Austen']                  24723\n",
       "['Charles Dickens']              13224\n",
       "['John Steinbeck']               10746\n",
       "['John Ronald Reuel Tolkien']    10145\n",
       "['C. S. Lewis']                   9031\n",
       "['Harper Lee']                    8973\n",
       "['J. K. Rowling']                 8324\n",
       "['Kurt Vonnegut']                 7436\n",
       "['George Orwell']                 7375\n",
       "dtype: int64"
      ]
     },
     "execution_count": 15,
     "metadata": {},
     "output_type": "execute_result"
    }
   ],
   "source": [
    "better_auteur(rating, books)"
   ]
  },
  {
   "cell_type": "code",
   "execution_count": 16,
   "metadata": {},
   "outputs": [],
   "source": [
    "def worst_auteur(rating:pd.DataFrame, books:pd.DataFrame):\n",
    "    pire_auteurs = rating.merge(books[['Titre','Auteurs']], on='Titre')\n",
    "    pire_auteurs = pire_auteurs[pire_auteurs['revue/score'] == 1]\n",
    "    pire_auteurs = pire_auteurs.groupby('Auteurs').size().sort_values(ascending=False).head(10)\n",
    "    return pire_auteurs\n",
    "    "
   ]
  },
  {
   "cell_type": "code",
   "execution_count": 17,
   "metadata": {},
   "outputs": [
    {
     "data": {
      "text/plain": [
       "Auteurs\n",
       "['Robert Jordan']                2518\n",
       "['Jane Austen']                  1418\n",
       "['Charles Dickens']              1390\n",
       "['Thomas Harris']                1387\n",
       "['Tom Clancy']                   1170\n",
       "['BusinessNews Publishing']      1098\n",
       "['Emily Bronte']                  924\n",
       "['J. R. R. Tolkien']              907\n",
       "['William Golding']               900\n",
       "['Patricia Daniels Cornwell']     864\n",
       "dtype: int64"
      ]
     },
     "execution_count": 17,
     "metadata": {},
     "output_type": "execute_result"
    }
   ],
   "source": [
    "worst_auteur(rating, books) "
   ]
  },
  {
   "cell_type": "code",
   "execution_count": 18,
   "metadata": {},
   "outputs": [],
   "source": [
    "def get_most_scored_book_foreach_rating(books:pd.DataFrame, rating:pd.DataFrame, n=10):\n",
    "    top_pos_livre = rating[rating['revue/score'] > 3]\n",
    "    top_pos_livre = top_pos_livre.groupby('Titre').size().sort_values(ascending=False)[:n]\n",
    "    top_neg_livre = rating[rating['revue/score'] < 3]\n",
    "    top_neg_livre = top_neg_livre.groupby('Titre').size().sort_values(ascending=False)[:n]\n",
    "    top_neutre_livre = rating[rating['revue/score'] == 3]\n",
    "    top_neutre_livre = top_neutre_livre.groupby('Titre').size().sort_values(ascending=False)[:n]\n",
    "    return top_pos_livre, top_neg_livre, top_neutre_livre"
   ]
  },
  {
   "cell_type": "code",
   "execution_count": 16,
   "metadata": {},
   "outputs": [],
   "source": [
    "top_pos_livre, top_neg_livre, top_neutre_livre= get_most_scored_book_foreach_rating(books, rating, n=10)"
   ]
  },
  {
   "cell_type": "code",
   "execution_count": 17,
   "metadata": {},
   "outputs": [
    {
     "data": {
      "text/plain": [
       "(Titre\n",
       " The Hobbit             20455\n",
       " Pride and Prejudice    18013\n",
       " Atlas Shrugged          9216\n",
       " Wuthering Heights       7992\n",
       " The Giver               6442\n",
       " dtype: int64,\n",
       " Titre\n",
       " Atlas Shrugged                                         2305\n",
       " Crossroads of Twilight (The Wheel of Time, Book 10)    1959\n",
       " Wuthering Heights                                      1529\n",
       " Pride and Prejudice                                    1273\n",
       " The Bear and the Dragon                                1242\n",
       " dtype: int64,\n",
       " Titre\n",
       " Wuthering Heights      1259\n",
       " Pride and Prejudice    1085\n",
       " Atlas Shrugged          992\n",
       " The Hobbit              782\n",
       " The Giver               636\n",
       " dtype: int64)"
      ]
     },
     "execution_count": 17,
     "metadata": {},
     "output_type": "execute_result"
    }
   ],
   "source": [
    "top_pos_livre.head(), top_neg_livre.head(), top_neutre_livre.head()"
   ]
  },
  {
   "cell_type": "code",
   "execution_count": 18,
   "metadata": {},
   "outputs": [],
   "source": [
    "def distribution_of_book_score(books:pd.DataFrame, top_n=10):\n",
    "    books['Genre'] = books['Genre'].str.replace(\"^\\['|']$\", \"\", regex=True)\n",
    "    books['Genre'].value_counts().nlargest(top_n).plot(kind='bar', figsize=(10, 6), title='Top 20 Genres')"
   ]
  },
  {
   "cell_type": "code",
   "execution_count": 19,
   "metadata": {},
   "outputs": [
    {
     "data": {
      "image/png": "[encoded data removed]",
      "text/plain": [
       "<Figure size 1000x600 with 1 Axes>"
      ]
     },
     "metadata": {},
     "output_type": "display_data"
    }
   ],
   "source": [
    "distribution_of_book_score(books)"
   ]
  },
  {
   "cell_type": "code",
   "execution_count": 32,
   "metadata": {},
   "outputs": [],
   "source": [
    "import pandas as pd\n",
    "from collections import Counter\n",
    "from nltk.corpus import stopwords\n",
    "import re\n",
    "\n",
    "def get_most_freq_words(rating: pd.DataFrame):\n",
    "    sw_set = set(stopwords.words('english'))\n",
    "    rating['all text'] = (rating['revue/résumé'] + rating['revue/texte']).str.lower()\n",
    "    text = ' '.join(rating.loc[rating['revue/score'] >= 5, 'all text'].dropna())\n",
    "    words = re.findall(r'\\b\\w+\\b', text)\n",
    "    text_without_stopwords = [word for word in words if word not in sw_set]\n",
    "    common_words = Counter(text_without_stopwords).most_common(10)\n",
    "    return common_words\n"
   ]
  },
  {
   "cell_type": "code",
   "execution_count": 36,
   "metadata": {},
   "outputs": [],
   "source": [
    "word_freq = get_most_freq_words(rating)"
   ]
  },
  {
   "cell_type": "code",
   "execution_count": 37,
   "metadata": {},
   "outputs": [
    {
     "data": {
      "image/jpeg": "[encoded data removed]",
      "image/png": "[encoded data removed]",
      "text/plain": [
       "<PIL.Image.Image image mode=RGB size=400x200>"
      ]
     },
     "execution_count": 37,
     "metadata": {},
     "output_type": "execute_result"
    }
   ],
   "source": [
    "#word cloud\n",
    "from wordcloud import WordCloud\n",
    "WordCloud().generate_from_frequencies(dict(word_freq)).to_image()"
   ]
  },
  {
   "cell_type": "code",
   "execution_count": 23,
   "metadata": {},
   "outputs": [],
   "source": [
    "def show_distribution_of_score(rating:pd.DataFrame):\n",
    "    rating['polarity'] = rating['revue/score'].apply(lambda x: 'positive' if x > 3 else 'negative' if x < 3 else 'neutral')\n",
    "    print(rating['polarity'].value_counts())\n",
    "    rating['polarity'].value_counts().plot(kind='bar', figsize=(10, 6), title='Distribution of Score')"
   ]
  },
  {
   "cell_type": "code",
   "execution_count": 24,
   "metadata": {},
   "outputs": [
    {
     "name": "stdout",
     "output_type": "stream",
     "text": [
      "polarity\n",
      "positive    2392959\n",
      "negative     352745\n",
      "neutral      254295\n",
      "Name: count, dtype: int64\n"
     ]
    },
    {
     "data": {
      "image/png": "[encoded data removed]",
      "text/plain": [
       "<Figure size 1000x600 with 1 Axes>"
      ]
     },
     "metadata": {},
     "output_type": "display_data"
    }
   ],
   "source": [
    "show_distribution_of_score(rating)"
   ]
  },
  {
   "cell_type": "code",
   "execution_count": 38,
   "metadata": {},
   "outputs": [],
   "source": [
    "sample, a = load_sample_data()\n"
   ]
  },
  {
   "cell_type": "code",
   "execution_count": 39,
   "metadata": {},
   "outputs": [
    {
     "name": "stdout",
     "output_type": "stream",
     "text": [
      "polarity\n",
      "positive    8023\n",
      "negative    1181\n",
      "neutral      796\n",
      "Name: count, dtype: int64\n"
     ]
    },
    {
     "data": {
      "image/png": "[encoded data removed]",
      "text/plain": [
       "<Figure size 1000x600 with 1 Axes>"
      ]
     },
     "metadata": {},
     "output_type": "display_data"
    }
   ],
   "source": [
    "show_distribution_of_score(sample)"
   ]
  },
  {
   "cell_type": "code",
   "execution_count": 41,
   "metadata": {},
   "outputs": [],
   "source": [
    "from sklearn.preprocessing import OrdinalEncoder\n",
    "def get_corr_between_editor_and_score(books:pd.DataFrame, rating:pd.DataFrame):\n",
    "    titre_score = rating[['Titre', 'revue/score']]\n",
    "    titre_score = titre_score.merge(books[['Titre', 'Editeur']], on='Titre')\n",
    "    titre_score = titre_score.dropna()\n",
    "    encode = OrdinalEncoder()\n",
    "    titre_score['Editeur'] = encode.fit_transform(titre_score[['Editeur']])\n",
    "    return titre_score[['Editeur', 'revue/score']].corr(numeric_only=True)\n",
    "    \n",
    "    "
   ]
  },
  {
   "cell_type": "code",
   "execution_count": 45,
   "metadata": {},
   "outputs": [],
   "source": [
    "def get_all_corr(books:pd.DataFrame, rating:pd.DataFrame):\n",
    "    rating = rating.dropna()\n",
    "    rating = rating.drop(columns=['revue/heure','revue/résumé','revue/texte'])\n",
    "    merged = rating.merge(books, on='Titre')\n",
    "    columns = merged.columns\n",
    "    ordinal = OrdinalEncoder()\n",
    "    merged = ordinal.fit_transform(merged)\n",
    "    merged = pd.DataFrame(merged, columns=columns)\n",
    "    return merged.corr()"
   ]
  },
  {
   "cell_type": "code",
   "execution_count": 46,
   "metadata": {},
   "outputs": [
    {
     "data": {
      "text/html": [
       "<div>\n",
       "<style scoped>\n",
       "    .dataframe tbody tr th:only-of-type {\n",
       "        vertical-align: middle;\n",
       "    }\n",
       "\n",
       "    .dataframe tbody tr th {\n",
       "        vertical-align: top;\n",
       "    }\n",
       "\n",
       "    .dataframe thead th {\n",
       "        text-align: right;\n",
       "    }\n",
       "</style>\n",
       "<table border=\"1\" class=\"dataframe\">\n",
       "  <thead>\n",
       "    <tr style=\"text-align: right;\">\n",
       "      <th></th>\n",
       "      <th>Titre</th>\n",
       "      <th>Description</th>\n",
       "      <th>Auteurs</th>\n",
       "      <th>Image</th>\n",
       "      <th>Lien Google</th>\n",
       "      <th>Editeur</th>\n",
       "      <th>Date publication</th>\n",
       "      <th>infoLink</th>\n",
       "      <th>Genre</th>\n",
       "      <th>Nb scores</th>\n",
       "    </tr>\n",
       "  </thead>\n",
       "  <tbody>\n",
       "    <tr>\n",
       "      <th>Titre</th>\n",
       "      <td>1.000000</td>\n",
       "      <td>0.041525</td>\n",
       "      <td>0.050237</td>\n",
       "      <td>0.008300</td>\n",
       "      <td>-0.007161</td>\n",
       "      <td>0.001626</td>\n",
       "      <td>0.006753</td>\n",
       "      <td>0.017610</td>\n",
       "      <td>0.001378</td>\n",
       "      <td>-0.029846</td>\n",
       "    </tr>\n",
       "    <tr>\n",
       "      <th>Description</th>\n",
       "      <td>0.041525</td>\n",
       "      <td>1.000000</td>\n",
       "      <td>0.006488</td>\n",
       "      <td>-0.009062</td>\n",
       "      <td>0.003520</td>\n",
       "      <td>0.018298</td>\n",
       "      <td>-0.006657</td>\n",
       "      <td>0.040632</td>\n",
       "      <td>0.019186</td>\n",
       "      <td>0.043553</td>\n",
       "    </tr>\n",
       "    <tr>\n",
       "      <th>Auteurs</th>\n",
       "      <td>0.050237</td>\n",
       "      <td>0.006488</td>\n",
       "      <td>1.000000</td>\n",
       "      <td>0.019973</td>\n",
       "      <td>0.006618</td>\n",
       "      <td>0.029393</td>\n",
       "      <td>-0.024898</td>\n",
       "      <td>0.024137</td>\n",
       "      <td>0.022094</td>\n",
       "      <td>-0.008757</td>\n",
       "    </tr>\n",
       "    <tr>\n",
       "      <th>Image</th>\n",
       "      <td>0.008300</td>\n",
       "      <td>-0.009062</td>\n",
       "      <td>0.019973</td>\n",
       "      <td>1.000000</td>\n",
       "      <td>0.654745</td>\n",
       "      <td>0.031319</td>\n",
       "      <td>-0.003203</td>\n",
       "      <td>0.394307</td>\n",
       "      <td>0.003230</td>\n",
       "      <td>0.009256</td>\n",
       "    </tr>\n",
       "    <tr>\n",
       "      <th>Lien Google</th>\n",
       "      <td>-0.007161</td>\n",
       "      <td>0.003520</td>\n",
       "      <td>0.006618</td>\n",
       "      <td>0.654745</td>\n",
       "      <td>1.000000</td>\n",
       "      <td>0.025157</td>\n",
       "      <td>0.020606</td>\n",
       "      <td>0.546618</td>\n",
       "      <td>0.003119</td>\n",
       "      <td>0.041580</td>\n",
       "    </tr>\n",
       "    <tr>\n",
       "      <th>Editeur</th>\n",
       "      <td>0.001626</td>\n",
       "      <td>0.018298</td>\n",
       "      <td>0.029393</td>\n",
       "      <td>0.031319</td>\n",
       "      <td>0.025157</td>\n",
       "      <td>1.000000</td>\n",
       "      <td>-0.045694</td>\n",
       "      <td>0.030350</td>\n",
       "      <td>0.021441</td>\n",
       "      <td>0.001119</td>\n",
       "    </tr>\n",
       "    <tr>\n",
       "      <th>Date publication</th>\n",
       "      <td>0.006753</td>\n",
       "      <td>-0.006657</td>\n",
       "      <td>-0.024898</td>\n",
       "      <td>-0.003203</td>\n",
       "      <td>0.020606</td>\n",
       "      <td>-0.045694</td>\n",
       "      <td>1.000000</td>\n",
       "      <td>-0.063833</td>\n",
       "      <td>-0.030345</td>\n",
       "      <td>0.042132</td>\n",
       "    </tr>\n",
       "    <tr>\n",
       "      <th>infoLink</th>\n",
       "      <td>0.017610</td>\n",
       "      <td>0.040632</td>\n",
       "      <td>0.024137</td>\n",
       "      <td>0.394307</td>\n",
       "      <td>0.546618</td>\n",
       "      <td>0.030350</td>\n",
       "      <td>-0.063833</td>\n",
       "      <td>1.000000</td>\n",
       "      <td>0.058712</td>\n",
       "      <td>0.070491</td>\n",
       "    </tr>\n",
       "    <tr>\n",
       "      <th>Genre</th>\n",
       "      <td>0.001378</td>\n",
       "      <td>0.019186</td>\n",
       "      <td>0.022094</td>\n",
       "      <td>0.003230</td>\n",
       "      <td>0.003119</td>\n",
       "      <td>0.021441</td>\n",
       "      <td>-0.030345</td>\n",
       "      <td>0.058712</td>\n",
       "      <td>1.000000</td>\n",
       "      <td>-0.105275</td>\n",
       "    </tr>\n",
       "    <tr>\n",
       "      <th>Nb scores</th>\n",
       "      <td>-0.029846</td>\n",
       "      <td>0.043553</td>\n",
       "      <td>-0.008757</td>\n",
       "      <td>0.009256</td>\n",
       "      <td>0.041580</td>\n",
       "      <td>0.001119</td>\n",
       "      <td>0.042132</td>\n",
       "      <td>0.070491</td>\n",
       "      <td>-0.105275</td>\n",
       "      <td>1.000000</td>\n",
       "    </tr>\n",
       "  </tbody>\n",
       "</table>\n",
       "</div>"
      ],
      "text/plain": [
       "                     Titre  Description   Auteurs     Image  Lien Google  \\\n",
       "Titre             1.000000     0.041525  0.050237  0.008300    -0.007161   \n",
       "Description       0.041525     1.000000  0.006488 -0.009062     0.003520   \n",
       "Auteurs           0.050237     0.006488  1.000000  0.019973     0.006618   \n",
       "Image             0.008300    -0.009062  0.019973  1.000000     0.654745   \n",
       "Lien Google      -0.007161     0.003520  0.006618  0.654745     1.000000   \n",
       "Editeur           0.001626     0.018298  0.029393  0.031319     0.025157   \n",
       "Date publication  0.006753    -0.006657 -0.024898 -0.003203     0.020606   \n",
       "infoLink          0.017610     0.040632  0.024137  0.394307     0.546618   \n",
       "Genre             0.001378     0.019186  0.022094  0.003230     0.003119   \n",
       "Nb scores        -0.029846     0.043553 -0.008757  0.009256     0.041580   \n",
       "\n",
       "                   Editeur  Date publication  infoLink     Genre  Nb scores  \n",
       "Titre             0.001626          0.006753  0.017610  0.001378  -0.029846  \n",
       "Description       0.018298         -0.006657  0.040632  0.019186   0.043553  \n",
       "Auteurs           0.029393         -0.024898  0.024137  0.022094  -0.008757  \n",
       "Image             0.031319         -0.003203  0.394307  0.003230   0.009256  \n",
       "Lien Google       0.025157          0.020606  0.546618  0.003119   0.041580  \n",
       "Editeur           1.000000         -0.045694  0.030350  0.021441   0.001119  \n",
       "Date publication -0.045694          1.000000 -0.063833 -0.030345   0.042132  \n",
       "infoLink          0.030350         -0.063833  1.000000  0.058712   0.070491  \n",
       "Genre             0.021441         -0.030345  0.058712  1.000000  -0.105275  \n",
       "Nb scores         0.001119          0.042132  0.070491 -0.105275   1.000000  "
      ]
     },
     "execution_count": 46,
     "metadata": {},
     "output_type": "execute_result"
    }
   ],
   "source": [
    "get_all_corr(books, rating)"
   ]
  },
  {
   "cell_type": "code",
   "execution_count": 42,
   "metadata": {},
   "outputs": [
    {
     "data": {
      "text/html": [
       "<div>\n",
       "<style scoped>\n",
       "    .dataframe tbody tr th:only-of-type {\n",
       "        vertical-align: middle;\n",
       "    }\n",
       "\n",
       "    .dataframe tbody tr th {\n",
       "        vertical-align: top;\n",
       "    }\n",
       "\n",
       "    .dataframe thead th {\n",
       "        text-align: right;\n",
       "    }\n",
       "</style>\n",
       "<table border=\"1\" class=\"dataframe\">\n",
       "  <thead>\n",
       "    <tr style=\"text-align: right;\">\n",
       "      <th></th>\n",
       "      <th>Editeur</th>\n",
       "      <th>revue/score</th>\n",
       "    </tr>\n",
       "  </thead>\n",
       "  <tbody>\n",
       "    <tr>\n",
       "      <th>Editeur</th>\n",
       "      <td>1.000000</td>\n",
       "      <td>-0.005736</td>\n",
       "    </tr>\n",
       "    <tr>\n",
       "      <th>revue/score</th>\n",
       "      <td>-0.005736</td>\n",
       "      <td>1.000000</td>\n",
       "    </tr>\n",
       "  </tbody>\n",
       "</table>\n",
       "</div>"
      ],
      "text/plain": [
       "              Editeur  revue/score\n",
       "Editeur      1.000000    -0.005736\n",
       "revue/score -0.005736     1.000000"
      ]
     },
     "execution_count": 42,
     "metadata": {},
     "output_type": "execute_result"
    }
   ],
   "source": [
    "get_corr_between_editor_and_score(books, rating)"
   ]
  }
 ],
 "metadata": {
  "kernelspec": {
   "display_name": "RankFinder",
   "language": "python",
   "name": "python3"
  },
  "language_info": {
   "codemirror_mode": {
    "name": "ipython",
    "version": 3
   },
   "file_extension": ".py",
   "mimetype": "text/x-python",
   "name": "python",
   "nbconvert_exporter": "python",
   "pygments_lexer": "ipython3",
   "version": "3.10.11"
  }
 },
 "nbformat": 4,
 "nbformat_minor": 2
}
