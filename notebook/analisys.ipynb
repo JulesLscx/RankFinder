{
 "cells": [
  {
   "cell_type": "code",
   "execution_count": 3,
   "metadata": {},
   "outputs": [],
   "source": [
    "import pandas as pd\n",
    "import warnings\n",
    "warnings.filterwarnings(\"ignore\")\n"
   ]
  },
  {
   "cell_type": "code",
   "execution_count": 11,
   "metadata": {},
   "outputs": [],
   "source": [
    "PATH_RATING = '../data/Books_rating_t.csv'\n",
    "PATH_BOOKS = '../data/books_data_t.csv'\n",
    "PATH_SAMPLE_RATING = '../data/Sample_Books_rating.csv'"
   ]
  },
  {
   "cell_type": "code",
   "execution_count": 26,
   "metadata": {},
   "outputs": [],
   "source": [
    "def load_data(*,n_rating:int=-1):\n",
    "    rating = pd.read_csv(PATH_RATING)\n",
    "    books = pd.read_csv(PATH_BOOKS)\n",
    "    return rating[:n_rating], books"
   ]
  },
  {
   "cell_type": "code",
   "execution_count": 21,
   "metadata": {},
   "outputs": [],
   "source": [
    "def find_book_by_name(books:pd.DataFrame, book_name:str):\n",
    "    return books[books['Titre'] == book_name]"
   ]
  },
  {
   "cell_type": "code",
   "execution_count": 27,
   "metadata": {},
   "outputs": [],
   "source": [
    "rating, books = load_data()"
   ]
  },
  {
   "cell_type": "code",
   "execution_count": 28,
   "metadata": {},
   "outputs": [
    {
     "data": {
      "text/html": [
       "<div>\n",
       "<style scoped>\n",
       "    .dataframe tbody tr th:only-of-type {\n",
       "        vertical-align: middle;\n",
       "    }\n",
       "\n",
       "    .dataframe tbody tr th {\n",
       "        vertical-align: top;\n",
       "    }\n",
       "\n",
       "    .dataframe thead th {\n",
       "        text-align: right;\n",
       "    }\n",
       "</style>\n",
       "<table border=\"1\" class=\"dataframe\">\n",
       "  <thead>\n",
       "    <tr style=\"text-align: right;\">\n",
       "      <th></th>\n",
       "      <th>Titre</th>\n",
       "      <th>Description</th>\n",
       "      <th>Auteurs</th>\n",
       "      <th>Image</th>\n",
       "      <th>Lien Google</th>\n",
       "      <th>Editeur</th>\n",
       "      <th>Date publication</th>\n",
       "      <th>infoLink</th>\n",
       "      <th>Genre</th>\n",
       "      <th>Nb scores</th>\n",
       "    </tr>\n",
       "  </thead>\n",
       "  <tbody>\n",
       "    <tr>\n",
       "      <th>62999</th>\n",
       "      <td>Harry Potter and the Chamber of Secrets</td>\n",
       "      <td>Witchcraft, wizardry - fiction.</td>\n",
       "      <td>['J. K. Rowling']</td>\n",
       "      <td>http://books.google.com/books/content?id=nmXTy...</td>\n",
       "      <td>http://books.google.com/books?id=nmXTy4FPfcwC&amp;...</td>\n",
       "      <td>Raincoast Books</td>\n",
       "      <td>1999</td>\n",
       "      <td>http://books.google.com/books?id=nmXTy4FPfcwC&amp;...</td>\n",
       "      <td>['Juvenile Fiction']</td>\n",
       "      <td>14.0</td>\n",
       "    </tr>\n",
       "  </tbody>\n",
       "</table>\n",
       "</div>"
      ],
      "text/plain": [
       "                                         Titre  \\\n",
       "62999  Harry Potter and the Chamber of Secrets   \n",
       "\n",
       "                           Description            Auteurs  \\\n",
       "62999  Witchcraft, wizardry - fiction.  ['J. K. Rowling']   \n",
       "\n",
       "                                                   Image  \\\n",
       "62999  http://books.google.com/books/content?id=nmXTy...   \n",
       "\n",
       "                                             Lien Google          Editeur  \\\n",
       "62999  http://books.google.com/books?id=nmXTy4FPfcwC&...  Raincoast Books   \n",
       "\n",
       "      Date publication                                           infoLink  \\\n",
       "62999             1999  http://books.google.com/books?id=nmXTy4FPfcwC&...   \n",
       "\n",
       "                      Genre  Nb scores  \n",
       "62999  ['Juvenile Fiction']       14.0  "
      ]
     },
     "execution_count": 28,
     "metadata": {},
     "output_type": "execute_result"
    }
   ],
   "source": [
    "find_book_by_name(books, book_name='Harry Potter and the Chamber of Secrets')"
   ]
  },
  {
   "cell_type": "code",
   "execution_count": 31,
   "metadata": {},
   "outputs": [],
   "source": [
    "def get_most_scored_book(books:pd.DataFrame, n=10):\n",
    "    books['Nb scores'] = pd.to_numeric(books['Nb scores'], errors='coerce')\n",
    "    sorted_data = books.sort_values('Nb scores', ascending=False, inplace=False)\n",
    "    return sorted_data[:n]"
   ]
  },
  {
   "cell_type": "code",
   "execution_count": 32,
   "metadata": {},
   "outputs": [
    {
     "data": {
      "text/html": [
       "<div>\n",
       "<style scoped>\n",
       "    .dataframe tbody tr th:only-of-type {\n",
       "        vertical-align: middle;\n",
       "    }\n",
       "\n",
       "    .dataframe tbody tr th {\n",
       "        vertical-align: top;\n",
       "    }\n",
       "\n",
       "    .dataframe thead th {\n",
       "        text-align: right;\n",
       "    }\n",
       "</style>\n",
       "<table border=\"1\" class=\"dataframe\">\n",
       "  <thead>\n",
       "    <tr style=\"text-align: right;\">\n",
       "      <th></th>\n",
       "      <th>Titre</th>\n",
       "      <th>Description</th>\n",
       "      <th>Auteurs</th>\n",
       "      <th>Image</th>\n",
       "      <th>Lien Google</th>\n",
       "      <th>Editeur</th>\n",
       "      <th>Date publication</th>\n",
       "      <th>infoLink</th>\n",
       "      <th>Genre</th>\n",
       "      <th>Nb scores</th>\n",
       "    </tr>\n",
       "  </thead>\n",
       "  <tbody>\n",
       "    <tr>\n",
       "      <th>26834</th>\n",
       "      <td>The Alchemist</td>\n",
       "      <td>\"My heart is afraid that it will have to suffe...</td>\n",
       "      <td>['Paulo Coelho']</td>\n",
       "      <td>http://books.google.com/books/content?id=pTr44...</td>\n",
       "      <td>http://books.google.com/books?id=pTr44Sx6oWQC&amp;...</td>\n",
       "      <td>Harper Collins</td>\n",
       "      <td>25/04/2006</td>\n",
       "      <td>http://books.google.com/books?id=pTr44Sx6oWQC&amp;...</td>\n",
       "      <td>['Fiction']</td>\n",
       "      <td>4895.0</td>\n",
       "    </tr>\n",
       "    <tr>\n",
       "      <th>62005</th>\n",
       "      <td>A Mission to Millions; The Story of Ernie Alle...</td>\n",
       "      <td>#1 NEW YORK TIMES BESTSELLER • NOW A MAJOR MOT...</td>\n",
       "      <td>['Laura Hillenbrand']</td>\n",
       "      <td>http://books.google.com/books/content?id=1PeLD...</td>\n",
       "      <td>http://books.google.com/books?id=1PeLDQAAQBAJ&amp;...</td>\n",
       "      <td>Random House Trade Paperbacks</td>\n",
       "      <td>29/07/2014</td>\n",
       "      <td>http://books.google.com/books?id=1PeLDQAAQBAJ&amp;...</td>\n",
       "      <td>['Biography &amp; Autobiography']</td>\n",
       "      <td>4572.0</td>\n",
       "    </tr>\n",
       "    <tr>\n",
       "      <th>76345</th>\n",
       "      <td>Unbroken</td>\n",
       "      <td>#1 NEW YORK TIMES BESTSELLER • NOW A MAJOR MOT...</td>\n",
       "      <td>['Laura Hillenbrand']</td>\n",
       "      <td>http://books.google.com/books/content?id=1PeLD...</td>\n",
       "      <td>http://books.google.com/books?id=1PeLDQAAQBAJ&amp;...</td>\n",
       "      <td>Random House Trade Paperbacks</td>\n",
       "      <td>29/07/2014</td>\n",
       "      <td>http://books.google.com/books?id=1PeLDQAAQBAJ&amp;...</td>\n",
       "      <td>['Biography &amp; Autobiography']</td>\n",
       "      <td>4572.0</td>\n",
       "    </tr>\n",
       "    <tr>\n",
       "      <th>128081</th>\n",
       "      <td>Blue Like Jazz: Nonreligious Thoughts on Chris...</td>\n",
       "      <td>A popular minister recounts his zealous early ...</td>\n",
       "      <td>['Donald Miller']</td>\n",
       "      <td>http://books.google.com/books/content?id=fNC3f...</td>\n",
       "      <td>http://books.google.nl/books?id=fNC3fdxYgZMC&amp;p...</td>\n",
       "      <td>Thomas Nelson Inc</td>\n",
       "      <td>2012-04</td>\n",
       "      <td>http://books.google.nl/books?id=fNC3fdxYgZMC&amp;d...</td>\n",
       "      <td>['Biography &amp; Autobiography']</td>\n",
       "      <td>4562.0</td>\n",
       "    </tr>\n",
       "    <tr>\n",
       "      <th>57822</th>\n",
       "      <td>Eclipse</td>\n",
       "      <td>As the love triangle heats up in the third boo...</td>\n",
       "      <td>['Stephenie Meyer']</td>\n",
       "      <td>http://books.google.com/books/content?id=lw99O...</td>\n",
       "      <td>http://books.google.com/books?id=lw99Oii9R90C&amp;...</td>\n",
       "      <td>Little, Brown Books for Young Readers</td>\n",
       "      <td>07/08/2007</td>\n",
       "      <td>https://play.google.com/store/books/details?id...</td>\n",
       "      <td>['Young Adult Fiction']</td>\n",
       "      <td>4392.0</td>\n",
       "    </tr>\n",
       "    <tr>\n",
       "      <th>127021</th>\n",
       "      <td>Redeeming Love</td>\n",
       "      <td>NATIONAL BESTSELLER • NOW A MAJOR MOTION PICTU...</td>\n",
       "      <td>['Francine Rivers']</td>\n",
       "      <td>http://books.google.com/books/content?id=I7eMl...</td>\n",
       "      <td>http://books.google.nl/books?id=I7eMlFZ-drcC&amp;p...</td>\n",
       "      <td>Multnomah</td>\n",
       "      <td>04/08/2009</td>\n",
       "      <td>https://play.google.com/store/books/details?id...</td>\n",
       "      <td>['Fiction']</td>\n",
       "      <td>4249.0</td>\n",
       "    </tr>\n",
       "    <tr>\n",
       "      <th>112603</th>\n",
       "      <td>A Walk in the Woods</td>\n",
       "      <td>Traces the author's adventurous trek along the...</td>\n",
       "      <td>['Bill Bryson']</td>\n",
       "      <td>http://books.google.com/books/content?id=a-8nn...</td>\n",
       "      <td>http://books.google.nl/books?id=a-8nnowMab0C&amp;q...</td>\n",
       "      <td>Broadway</td>\n",
       "      <td>1999</td>\n",
       "      <td>http://books.google.nl/books?id=a-8nnowMab0C&amp;d...</td>\n",
       "      <td>['Travel']</td>\n",
       "      <td>4234.0</td>\n",
       "    </tr>\n",
       "    <tr>\n",
       "      <th>162135</th>\n",
       "      <td>The Tipping Point: How Little Things Can Make ...</td>\n",
       "      <td>An introduction to the Tipping Point theory ex...</td>\n",
       "      <td>['Malcolm Gladwell']</td>\n",
       "      <td>http://books.google.com/books/content?id=w6V_P...</td>\n",
       "      <td>http://books.google.com/books?id=w6V_PwAACAAJ&amp;...</td>\n",
       "      <td>Wheeler Publishing, Incorporated</td>\n",
       "      <td>2003</td>\n",
       "      <td>http://books.google.com/books?id=w6V_PwAACAAJ&amp;...</td>\n",
       "      <td>['Reference']</td>\n",
       "      <td>4218.0</td>\n",
       "    </tr>\n",
       "    <tr>\n",
       "      <th>159446</th>\n",
       "      <td>Travel Light, Eat Heavy Along the Appalachian ...</td>\n",
       "      <td>God only knows what possessed Bill Bryson, a r...</td>\n",
       "      <td>['Bill Bryson']</td>\n",
       "      <td>http://books.google.com/books/content?id=WnyDg...</td>\n",
       "      <td>http://books.google.com/books?id=WnyDgV_vNhsC&amp;...</td>\n",
       "      <td>Anchor Canada</td>\n",
       "      <td>15/05/2012</td>\n",
       "      <td>http://books.google.com/books?id=WnyDgV_vNhsC&amp;...</td>\n",
       "      <td>['Travel']</td>\n",
       "      <td>4161.0</td>\n",
       "    </tr>\n",
       "    <tr>\n",
       "      <th>31260</th>\n",
       "      <td>Henrietta</td>\n",
       "      <td>#1 NEW YORK TIMES BESTSELLER • “The story of m...</td>\n",
       "      <td>['Rebecca Skloot']</td>\n",
       "      <td>http://books.google.com/books/content?id=GFevO...</td>\n",
       "      <td>http://books.google.com/books?id=GFevO-QxQDgC&amp;...</td>\n",
       "      <td>Crown</td>\n",
       "      <td>02/02/2010</td>\n",
       "      <td>https://play.google.com/store/books/details?id...</td>\n",
       "      <td>['Science']</td>\n",
       "      <td>4067.0</td>\n",
       "    </tr>\n",
       "  </tbody>\n",
       "</table>\n",
       "</div>"
      ],
      "text/plain": [
       "                                                    Titre  \\\n",
       "26834                                       The Alchemist   \n",
       "62005   A Mission to Millions; The Story of Ernie Alle...   \n",
       "76345                                            Unbroken   \n",
       "128081  Blue Like Jazz: Nonreligious Thoughts on Chris...   \n",
       "57822                                             Eclipse   \n",
       "127021                                     Redeeming Love   \n",
       "112603                                A Walk in the Woods   \n",
       "162135  The Tipping Point: How Little Things Can Make ...   \n",
       "159446  Travel Light, Eat Heavy Along the Appalachian ...   \n",
       "31260                                           Henrietta   \n",
       "\n",
       "                                              Description  \\\n",
       "26834   \"My heart is afraid that it will have to suffe...   \n",
       "62005   #1 NEW YORK TIMES BESTSELLER • NOW A MAJOR MOT...   \n",
       "76345   #1 NEW YORK TIMES BESTSELLER • NOW A MAJOR MOT...   \n",
       "128081  A popular minister recounts his zealous early ...   \n",
       "57822   As the love triangle heats up in the third boo...   \n",
       "127021  NATIONAL BESTSELLER • NOW A MAJOR MOTION PICTU...   \n",
       "112603  Traces the author's adventurous trek along the...   \n",
       "162135  An introduction to the Tipping Point theory ex...   \n",
       "159446  God only knows what possessed Bill Bryson, a r...   \n",
       "31260   #1 NEW YORK TIMES BESTSELLER • “The story of m...   \n",
       "\n",
       "                      Auteurs  \\\n",
       "26834        ['Paulo Coelho']   \n",
       "62005   ['Laura Hillenbrand']   \n",
       "76345   ['Laura Hillenbrand']   \n",
       "128081      ['Donald Miller']   \n",
       "57822     ['Stephenie Meyer']   \n",
       "127021    ['Francine Rivers']   \n",
       "112603        ['Bill Bryson']   \n",
       "162135   ['Malcolm Gladwell']   \n",
       "159446        ['Bill Bryson']   \n",
       "31260      ['Rebecca Skloot']   \n",
       "\n",
       "                                                    Image  \\\n",
       "26834   http://books.google.com/books/content?id=pTr44...   \n",
       "62005   http://books.google.com/books/content?id=1PeLD...   \n",
       "76345   http://books.google.com/books/content?id=1PeLD...   \n",
       "128081  http://books.google.com/books/content?id=fNC3f...   \n",
       "57822   http://books.google.com/books/content?id=lw99O...   \n",
       "127021  http://books.google.com/books/content?id=I7eMl...   \n",
       "112603  http://books.google.com/books/content?id=a-8nn...   \n",
       "162135  http://books.google.com/books/content?id=w6V_P...   \n",
       "159446  http://books.google.com/books/content?id=WnyDg...   \n",
       "31260   http://books.google.com/books/content?id=GFevO...   \n",
       "\n",
       "                                              Lien Google  \\\n",
       "26834   http://books.google.com/books?id=pTr44Sx6oWQC&...   \n",
       "62005   http://books.google.com/books?id=1PeLDQAAQBAJ&...   \n",
       "76345   http://books.google.com/books?id=1PeLDQAAQBAJ&...   \n",
       "128081  http://books.google.nl/books?id=fNC3fdxYgZMC&p...   \n",
       "57822   http://books.google.com/books?id=lw99Oii9R90C&...   \n",
       "127021  http://books.google.nl/books?id=I7eMlFZ-drcC&p...   \n",
       "112603  http://books.google.nl/books?id=a-8nnowMab0C&q...   \n",
       "162135  http://books.google.com/books?id=w6V_PwAACAAJ&...   \n",
       "159446  http://books.google.com/books?id=WnyDgV_vNhsC&...   \n",
       "31260   http://books.google.com/books?id=GFevO-QxQDgC&...   \n",
       "\n",
       "                                      Editeur Date publication  \\\n",
       "26834                          Harper Collins       25/04/2006   \n",
       "62005           Random House Trade Paperbacks       29/07/2014   \n",
       "76345           Random House Trade Paperbacks       29/07/2014   \n",
       "128081                      Thomas Nelson Inc          2012-04   \n",
       "57822   Little, Brown Books for Young Readers       07/08/2007   \n",
       "127021                              Multnomah       04/08/2009   \n",
       "112603                               Broadway             1999   \n",
       "162135       Wheeler Publishing, Incorporated             2003   \n",
       "159446                          Anchor Canada       15/05/2012   \n",
       "31260                                   Crown       02/02/2010   \n",
       "\n",
       "                                                 infoLink  \\\n",
       "26834   http://books.google.com/books?id=pTr44Sx6oWQC&...   \n",
       "62005   http://books.google.com/books?id=1PeLDQAAQBAJ&...   \n",
       "76345   http://books.google.com/books?id=1PeLDQAAQBAJ&...   \n",
       "128081  http://books.google.nl/books?id=fNC3fdxYgZMC&d...   \n",
       "57822   https://play.google.com/store/books/details?id...   \n",
       "127021  https://play.google.com/store/books/details?id...   \n",
       "112603  http://books.google.nl/books?id=a-8nnowMab0C&d...   \n",
       "162135  http://books.google.com/books?id=w6V_PwAACAAJ&...   \n",
       "159446  http://books.google.com/books?id=WnyDgV_vNhsC&...   \n",
       "31260   https://play.google.com/store/books/details?id...   \n",
       "\n",
       "                                Genre  Nb scores  \n",
       "26834                     ['Fiction']     4895.0  \n",
       "62005   ['Biography & Autobiography']     4572.0  \n",
       "76345   ['Biography & Autobiography']     4572.0  \n",
       "128081  ['Biography & Autobiography']     4562.0  \n",
       "57822         ['Young Adult Fiction']     4392.0  \n",
       "127021                    ['Fiction']     4249.0  \n",
       "112603                     ['Travel']     4234.0  \n",
       "162135                  ['Reference']     4218.0  \n",
       "159446                     ['Travel']     4161.0  \n",
       "31260                     ['Science']     4067.0  "
      ]
     },
     "execution_count": 32,
     "metadata": {},
     "output_type": "execute_result"
    }
   ],
   "source": [
    "get_most_scored_book(books, n=10)"
   ]
  },
  {
   "cell_type": "code",
   "execution_count": 47,
   "metadata": {},
   "outputs": [],
   "source": [
    "def corr_between_price_and_score(books:pd.DataFrame, rating:pd.DataFrame):\n",
    "    titre_score = rating[['Titre', 'revue/score', 'Prix']].dropna()\n",
    "    return titre_score[['Titre', 'Prix', 'revue/score']].corr(numeric_only=True)\n",
    "    "
   ]
  },
  {
   "cell_type": "code",
   "execution_count": 48,
   "metadata": {},
   "outputs": [
    {
     "data": {
      "text/html": [
       "<div>\n",
       "<style scoped>\n",
       "    .dataframe tbody tr th:only-of-type {\n",
       "        vertical-align: middle;\n",
       "    }\n",
       "\n",
       "    .dataframe tbody tr th {\n",
       "        vertical-align: top;\n",
       "    }\n",
       "\n",
       "    .dataframe thead th {\n",
       "        text-align: right;\n",
       "    }\n",
       "</style>\n",
       "<table border=\"1\" class=\"dataframe\">\n",
       "  <thead>\n",
       "    <tr style=\"text-align: right;\">\n",
       "      <th></th>\n",
       "      <th>Prix</th>\n",
       "      <th>revue/score</th>\n",
       "    </tr>\n",
       "  </thead>\n",
       "  <tbody>\n",
       "    <tr>\n",
       "      <th>Prix</th>\n",
       "      <td>1.000000</td>\n",
       "      <td>-0.010513</td>\n",
       "    </tr>\n",
       "    <tr>\n",
       "      <th>revue/score</th>\n",
       "      <td>-0.010513</td>\n",
       "      <td>1.000000</td>\n",
       "    </tr>\n",
       "  </tbody>\n",
       "</table>\n",
       "</div>"
      ],
      "text/plain": [
       "                 Prix  revue/score\n",
       "Prix         1.000000    -0.010513\n",
       "revue/score -0.010513     1.000000"
      ]
     },
     "execution_count": 48,
     "metadata": {},
     "output_type": "execute_result"
    }
   ],
   "source": [
    "corr_between_price_and_score(books, rating)"
   ]
  },
  {
   "cell_type": "code",
   "execution_count": 76,
   "metadata": {},
   "outputs": [],
   "source": [
    "def better_auteur(rating:pd.DataFrame, books:pd.DataFrame):\n",
    "    top_auteurs = rating.merge(books[['Titre','Auteurs']], on='Titre')\n",
    "    top_auteurs = top_auteurs[top_auteurs['revue/score'] == 5]\n",
    "    top_auteurs = top_auteurs.groupby('Auteurs').size().sort_values(ascending=False).head(10)\n",
    "    return top_auteurs"
   ]
  },
  {
   "cell_type": "code",
   "execution_count": 77,
   "metadata": {},
   "outputs": [
    {
     "data": {
      "text/plain": [
       "Auteurs\n",
       "['J. R. R. Tolkien']             29252\n",
       "['Jane Austen']                  24723\n",
       "['Charles Dickens']              13224\n",
       "['John Steinbeck']               10746\n",
       "['John Ronald Reuel Tolkien']    10145\n",
       "['C. S. Lewis']                   9031\n",
       "['Harper Lee']                    8973\n",
       "['J. K. Rowling']                 8324\n",
       "['Kurt Vonnegut']                 7436\n",
       "['George Orwell']                 7375\n",
       "dtype: int64"
      ]
     },
     "execution_count": 77,
     "metadata": {},
     "output_type": "execute_result"
    }
   ],
   "source": [
    "better_auteur(rating, books)"
   ]
  },
  {
   "cell_type": "code",
   "execution_count": 78,
   "metadata": {},
   "outputs": [],
   "source": [
    "def worst_auteur(rating:pd.DataFrame, books:pd.DataFrame):\n",
    "    pire_auteurs = rating.merge(books[['Titre','Auteurs']], on='Titre')\n",
    "    pire_auteurs = pire_auteurs[pire_auteurs['revue/score'] == 1]\n",
    "    pire_auteurs = pire_auteurs.groupby('Auteurs').size().sort_values(ascending=False).head(10)\n",
    "    return pire_auteurs\n",
    "    "
   ]
  },
  {
   "cell_type": "code",
   "execution_count": 79,
   "metadata": {},
   "outputs": [
    {
     "data": {
      "text/plain": [
       "Auteurs\n",
       "['Robert Jordan']                2518\n",
       "['Jane Austen']                  1418\n",
       "['Charles Dickens']              1390\n",
       "['Thomas Harris']                1387\n",
       "['Tom Clancy']                   1170\n",
       "['BusinessNews Publishing']      1098\n",
       "['Emily Bronte']                  924\n",
       "['J. R. R. Tolkien']              907\n",
       "['William Golding']               900\n",
       "['Patricia Daniels Cornwell']     864\n",
       "dtype: int64"
      ]
     },
     "execution_count": 79,
     "metadata": {},
     "output_type": "execute_result"
    }
   ],
   "source": [
    "worst_auteur(rating, books) "
   ]
  },
  {
   "cell_type": "code",
   "execution_count": 80,
   "metadata": {},
   "outputs": [],
   "source": [
    "# critique_pos = rating[rating['revue/score'] > 3]\n",
    "# top_pos_livre = critique_pos.groupby('Titre').size().sort_values(ascending=False).head(1)\n",
    "# print(\"Livre avec le plus grand nombre de critiques positives:\")\n",
    "# print(top_pos_livre)\n",
    "\n",
    "# critique_neg = rating[rating['revue/score'] < 3]\n",
    "# top_neg_livre = critique_neg.groupby('Titre').size().sort_values(ascending=False).head(1)\n",
    "# print(\"Livre avec le plus grand nombre de critiques négatives:\")\n",
    "# print(top_neg_livre)\n",
    "\n",
    "# critique_neutre = rating[rating['revue/score'] == 3]\n",
    "# top_neutre_livre = critique_neutre.groupby('Titre').size().sort_values(ascending=False).head(1)\n",
    "# print(\"Livre avec le plus grand nombre de critiques neutres:\")\n",
    "# print(top_neutre_livre)\n",
    "\n",
    "def get_most_scored_book_foreach_rating(books:pd.DataFrame, rating:pd.DataFrame, n=10):\n",
    "    top_pos_livre = rating[rating['revue/score'] > 3]\n",
    "    top_pos_livre = top_pos_livre.groupby('Titre').size().sort_values(ascending=False)[:n]\n",
    "    top_neg_livre = rating[rating['revue/score'] < 3]\n",
    "    top_neg_livre = top_neg_livre.groupby('Titre').size().sort_values(ascending=False)[:n]\n",
    "    top_neutre_livre = rating[rating['revue/score'] == 3]\n",
    "    top_neutre_livre = top_neutre_livre.groupby('Titre').size().sort_values(ascending=False)[:n]\n",
    "    return top_pos_livre, top_neg_livre, top_neutre_livre"
   ]
  },
  {
   "cell_type": "code",
   "execution_count": 82,
   "metadata": {},
   "outputs": [],
   "source": [
    "top_pos_livre, top_neg_livre, top_neutre_livre= get_most_scored_book_foreach_rating(books, rating, n=10)"
   ]
  },
  {
   "cell_type": "code",
   "execution_count": 87,
   "metadata": {},
   "outputs": [
    {
     "data": {
      "text/plain": [
       "(Titre\n",
       " The Hobbit             20455\n",
       " Pride and Prejudice    18013\n",
       " Atlas Shrugged          9216\n",
       " Wuthering Heights       7992\n",
       " The Giver               6442\n",
       " dtype: int64,\n",
       " Titre\n",
       " Atlas Shrugged                                         2305\n",
       " Crossroads of Twilight (The Wheel of Time, Book 10)    1959\n",
       " Wuthering Heights                                      1529\n",
       " Pride and Prejudice                                    1273\n",
       " The Bear and the Dragon                                1242\n",
       " dtype: int64,\n",
       " Titre\n",
       " Wuthering Heights      1259\n",
       " Pride and Prejudice    1085\n",
       " Atlas Shrugged          992\n",
       " The Hobbit              782\n",
       " The Giver               636\n",
       " dtype: int64)"
      ]
     },
     "execution_count": 87,
     "metadata": {},
     "output_type": "execute_result"
    }
   ],
   "source": [
    "top_pos_livre.head(), top_neg_livre.head(), top_neutre_livre.head()"
   ]
  },
  {
   "cell_type": "code",
   "execution_count": 117,
   "metadata": {},
   "outputs": [],
   "source": [
    "def distribution_of_book_score(books:pd.DataFrame, top_n=10):\n",
    "    books['Genre'].value_counts().nlargest(top_n).plot(kind='bar', figsize=(10, 6), title='Top 20 Genres')"
   ]
  },
  {
   "cell_type": "code",
   "execution_count": 118,
   "metadata": {},
   "outputs": [
    {
     "ename": "AttributeError",
     "evalue": "'float' object has no attribute 'replace'",
     "output_type": "error",
     "traceback": [
      "\u001b[1;31m---------------------------------------------------------------------------\u001b[0m",
      "\u001b[1;31mAttributeError\u001b[0m                            Traceback (most recent call last)",
      "Cell \u001b[1;32mIn[118], line 1\u001b[0m\n\u001b[1;32m----> 1\u001b[0m \u001b[43mdistribution_of_book_score\u001b[49m\u001b[43m(\u001b[49m\u001b[43mbooks\u001b[49m\u001b[43m)\u001b[49m\n",
      "Cell \u001b[1;32mIn[117], line 2\u001b[0m, in \u001b[0;36mdistribution_of_book_score\u001b[1;34m(books, top_n)\u001b[0m\n\u001b[0;32m      1\u001b[0m \u001b[38;5;28;01mdef\u001b[39;00m \u001b[38;5;21mdistribution_of_book_score\u001b[39m(books:pd\u001b[38;5;241m.\u001b[39mDataFrame, top_n\u001b[38;5;241m=\u001b[39m\u001b[38;5;241m10\u001b[39m):\n\u001b[1;32m----> 2\u001b[0m     books[\u001b[38;5;124m'\u001b[39m\u001b[38;5;124mGenre\u001b[39m\u001b[38;5;124m'\u001b[39m] \u001b[38;5;241m=\u001b[39m \u001b[43mbooks\u001b[49m\u001b[43m[\u001b[49m\u001b[38;5;124;43m'\u001b[39;49m\u001b[38;5;124;43mGenre\u001b[39;49m\u001b[38;5;124;43m'\u001b[39;49m\u001b[43m]\u001b[49m\u001b[38;5;241;43m.\u001b[39;49m\u001b[43mapply\u001b[49m\u001b[43m(\u001b[49m\u001b[38;5;28;43;01mlambda\u001b[39;49;00m\u001b[43m \u001b[49m\u001b[43mx\u001b[49m\u001b[43m:\u001b[49m\u001b[43m \u001b[49m\u001b[43mx\u001b[49m\u001b[38;5;241;43m.\u001b[39;49m\u001b[43mreplace\u001b[49m\u001b[43m(\u001b[49m\u001b[38;5;124;43m'\u001b[39;49m\u001b[38;5;124;43m[\u001b[39;49m\u001b[38;5;124;43m'\u001b[39;49m\u001b[43m,\u001b[49m\u001b[43m \u001b[49m\u001b[38;5;124;43m'\u001b[39;49m\u001b[38;5;124;43m'\u001b[39;49m\u001b[43m)\u001b[49m\u001b[38;5;241;43m.\u001b[39;49m\u001b[43mreplace\u001b[49m\u001b[43m(\u001b[49m\u001b[38;5;124;43m'\u001b[39;49m\u001b[38;5;124;43m]\u001b[39;49m\u001b[38;5;124;43m'\u001b[39;49m\u001b[43m,\u001b[49m\u001b[43m \u001b[49m\u001b[38;5;124;43m'\u001b[39;49m\u001b[38;5;124;43m'\u001b[39;49m\u001b[43m)\u001b[49m\u001b[43m)\u001b[49m\n\u001b[0;32m      3\u001b[0m     \u001b[38;5;28mprint\u001b[39m(books[\u001b[38;5;124m'\u001b[39m\u001b[38;5;124mGenre\u001b[39m\u001b[38;5;124m'\u001b[39m]\u001b[38;5;241m.\u001b[39mhead())\n\u001b[0;32m      4\u001b[0m     books[\u001b[38;5;124m'\u001b[39m\u001b[38;5;124mGenre\u001b[39m\u001b[38;5;124m'\u001b[39m]\u001b[38;5;241m.\u001b[39mvalue_counts()\u001b[38;5;241m.\u001b[39mnlargest(top_n)\u001b[38;5;241m.\u001b[39mplot(kind\u001b[38;5;241m=\u001b[39m\u001b[38;5;124m'\u001b[39m\u001b[38;5;124mbar\u001b[39m\u001b[38;5;124m'\u001b[39m, figsize\u001b[38;5;241m=\u001b[39m(\u001b[38;5;241m10\u001b[39m, \u001b[38;5;241m6\u001b[39m), title\u001b[38;5;241m=\u001b[39m\u001b[38;5;124m'\u001b[39m\u001b[38;5;124mTop 20 Genres\u001b[39m\u001b[38;5;124m'\u001b[39m)\n",
      "File \u001b[1;32mc:\\Users\\jules\\Documents\\BUT\\S6\\SAE\\RankFinder\\lib\\site-packages\\pandas\\core\\series.py:4904\u001b[0m, in \u001b[0;36mSeries.apply\u001b[1;34m(self, func, convert_dtype, args, by_row, **kwargs)\u001b[0m\n\u001b[0;32m   4769\u001b[0m \u001b[38;5;28;01mdef\u001b[39;00m \u001b[38;5;21mapply\u001b[39m(\n\u001b[0;32m   4770\u001b[0m     \u001b[38;5;28mself\u001b[39m,\n\u001b[0;32m   4771\u001b[0m     func: AggFuncType,\n\u001b[1;32m   (...)\u001b[0m\n\u001b[0;32m   4776\u001b[0m     \u001b[38;5;241m*\u001b[39m\u001b[38;5;241m*\u001b[39mkwargs,\n\u001b[0;32m   4777\u001b[0m ) \u001b[38;5;241m-\u001b[39m\u001b[38;5;241m>\u001b[39m DataFrame \u001b[38;5;241m|\u001b[39m Series:\n\u001b[0;32m   4778\u001b[0m \u001b[38;5;250m    \u001b[39m\u001b[38;5;124;03m\"\"\"\u001b[39;00m\n\u001b[0;32m   4779\u001b[0m \u001b[38;5;124;03m    Invoke function on values of Series.\u001b[39;00m\n\u001b[0;32m   4780\u001b[0m \n\u001b[1;32m   (...)\u001b[0m\n\u001b[0;32m   4895\u001b[0m \u001b[38;5;124;03m    dtype: float64\u001b[39;00m\n\u001b[0;32m   4896\u001b[0m \u001b[38;5;124;03m    \"\"\"\u001b[39;00m\n\u001b[0;32m   4897\u001b[0m     \u001b[38;5;28;01mreturn\u001b[39;00m \u001b[43mSeriesApply\u001b[49m\u001b[43m(\u001b[49m\n\u001b[0;32m   4898\u001b[0m \u001b[43m        \u001b[49m\u001b[38;5;28;43mself\u001b[39;49m\u001b[43m,\u001b[49m\n\u001b[0;32m   4899\u001b[0m \u001b[43m        \u001b[49m\u001b[43mfunc\u001b[49m\u001b[43m,\u001b[49m\n\u001b[0;32m   4900\u001b[0m \u001b[43m        \u001b[49m\u001b[43mconvert_dtype\u001b[49m\u001b[38;5;241;43m=\u001b[39;49m\u001b[43mconvert_dtype\u001b[49m\u001b[43m,\u001b[49m\n\u001b[0;32m   4901\u001b[0m \u001b[43m        \u001b[49m\u001b[43mby_row\u001b[49m\u001b[38;5;241;43m=\u001b[39;49m\u001b[43mby_row\u001b[49m\u001b[43m,\u001b[49m\n\u001b[0;32m   4902\u001b[0m \u001b[43m        \u001b[49m\u001b[43margs\u001b[49m\u001b[38;5;241;43m=\u001b[39;49m\u001b[43margs\u001b[49m\u001b[43m,\u001b[49m\n\u001b[0;32m   4903\u001b[0m \u001b[43m        \u001b[49m\u001b[43mkwargs\u001b[49m\u001b[38;5;241;43m=\u001b[39;49m\u001b[43mkwargs\u001b[49m\u001b[43m,\u001b[49m\n\u001b[1;32m-> 4904\u001b[0m \u001b[43m    \u001b[49m\u001b[43m)\u001b[49m\u001b[38;5;241;43m.\u001b[39;49m\u001b[43mapply\u001b[49m\u001b[43m(\u001b[49m\u001b[43m)\u001b[49m\n",
      "File \u001b[1;32mc:\\Users\\jules\\Documents\\BUT\\S6\\SAE\\RankFinder\\lib\\site-packages\\pandas\\core\\apply.py:1427\u001b[0m, in \u001b[0;36mSeriesApply.apply\u001b[1;34m(self)\u001b[0m\n\u001b[0;32m   1424\u001b[0m     \u001b[38;5;28;01mreturn\u001b[39;00m \u001b[38;5;28mself\u001b[39m\u001b[38;5;241m.\u001b[39mapply_compat()\n\u001b[0;32m   1426\u001b[0m \u001b[38;5;66;03m# self.func is Callable\u001b[39;00m\n\u001b[1;32m-> 1427\u001b[0m \u001b[38;5;28;01mreturn\u001b[39;00m \u001b[38;5;28;43mself\u001b[39;49m\u001b[38;5;241;43m.\u001b[39;49m\u001b[43mapply_standard\u001b[49m\u001b[43m(\u001b[49m\u001b[43m)\u001b[49m\n",
      "File \u001b[1;32mc:\\Users\\jules\\Documents\\BUT\\S6\\SAE\\RankFinder\\lib\\site-packages\\pandas\\core\\apply.py:1507\u001b[0m, in \u001b[0;36mSeriesApply.apply_standard\u001b[1;34m(self)\u001b[0m\n\u001b[0;32m   1501\u001b[0m \u001b[38;5;66;03m# row-wise access\u001b[39;00m\n\u001b[0;32m   1502\u001b[0m \u001b[38;5;66;03m# apply doesn't have a `na_action` keyword and for backward compat reasons\u001b[39;00m\n\u001b[0;32m   1503\u001b[0m \u001b[38;5;66;03m# we need to give `na_action=\"ignore\"` for categorical data.\u001b[39;00m\n\u001b[0;32m   1504\u001b[0m \u001b[38;5;66;03m# TODO: remove the `na_action=\"ignore\"` when that default has been changed in\u001b[39;00m\n\u001b[0;32m   1505\u001b[0m \u001b[38;5;66;03m#  Categorical (GH51645).\u001b[39;00m\n\u001b[0;32m   1506\u001b[0m action \u001b[38;5;241m=\u001b[39m \u001b[38;5;124m\"\u001b[39m\u001b[38;5;124mignore\u001b[39m\u001b[38;5;124m\"\u001b[39m \u001b[38;5;28;01mif\u001b[39;00m \u001b[38;5;28misinstance\u001b[39m(obj\u001b[38;5;241m.\u001b[39mdtype, CategoricalDtype) \u001b[38;5;28;01melse\u001b[39;00m \u001b[38;5;28;01mNone\u001b[39;00m\n\u001b[1;32m-> 1507\u001b[0m mapped \u001b[38;5;241m=\u001b[39m \u001b[43mobj\u001b[49m\u001b[38;5;241;43m.\u001b[39;49m\u001b[43m_map_values\u001b[49m\u001b[43m(\u001b[49m\n\u001b[0;32m   1508\u001b[0m \u001b[43m    \u001b[49m\u001b[43mmapper\u001b[49m\u001b[38;5;241;43m=\u001b[39;49m\u001b[43mcurried\u001b[49m\u001b[43m,\u001b[49m\u001b[43m \u001b[49m\u001b[43mna_action\u001b[49m\u001b[38;5;241;43m=\u001b[39;49m\u001b[43maction\u001b[49m\u001b[43m,\u001b[49m\u001b[43m \u001b[49m\u001b[43mconvert\u001b[49m\u001b[38;5;241;43m=\u001b[39;49m\u001b[38;5;28;43mself\u001b[39;49m\u001b[38;5;241;43m.\u001b[39;49m\u001b[43mconvert_dtype\u001b[49m\n\u001b[0;32m   1509\u001b[0m \u001b[43m\u001b[49m\u001b[43m)\u001b[49m\n\u001b[0;32m   1511\u001b[0m \u001b[38;5;28;01mif\u001b[39;00m \u001b[38;5;28mlen\u001b[39m(mapped) \u001b[38;5;129;01mand\u001b[39;00m \u001b[38;5;28misinstance\u001b[39m(mapped[\u001b[38;5;241m0\u001b[39m], ABCSeries):\n\u001b[0;32m   1512\u001b[0m     \u001b[38;5;66;03m# GH#43986 Need to do list(mapped) in order to get treated as nested\u001b[39;00m\n\u001b[0;32m   1513\u001b[0m     \u001b[38;5;66;03m#  See also GH#25959 regarding EA support\u001b[39;00m\n\u001b[0;32m   1514\u001b[0m     \u001b[38;5;28;01mreturn\u001b[39;00m obj\u001b[38;5;241m.\u001b[39m_constructor_expanddim(\u001b[38;5;28mlist\u001b[39m(mapped), index\u001b[38;5;241m=\u001b[39mobj\u001b[38;5;241m.\u001b[39mindex)\n",
      "File \u001b[1;32mc:\\Users\\jules\\Documents\\BUT\\S6\\SAE\\RankFinder\\lib\\site-packages\\pandas\\core\\base.py:921\u001b[0m, in \u001b[0;36mIndexOpsMixin._map_values\u001b[1;34m(self, mapper, na_action, convert)\u001b[0m\n\u001b[0;32m    918\u001b[0m \u001b[38;5;28;01mif\u001b[39;00m \u001b[38;5;28misinstance\u001b[39m(arr, ExtensionArray):\n\u001b[0;32m    919\u001b[0m     \u001b[38;5;28;01mreturn\u001b[39;00m arr\u001b[38;5;241m.\u001b[39mmap(mapper, na_action\u001b[38;5;241m=\u001b[39mna_action)\n\u001b[1;32m--> 921\u001b[0m \u001b[38;5;28;01mreturn\u001b[39;00m \u001b[43malgorithms\u001b[49m\u001b[38;5;241;43m.\u001b[39;49m\u001b[43mmap_array\u001b[49m\u001b[43m(\u001b[49m\u001b[43marr\u001b[49m\u001b[43m,\u001b[49m\u001b[43m \u001b[49m\u001b[43mmapper\u001b[49m\u001b[43m,\u001b[49m\u001b[43m \u001b[49m\u001b[43mna_action\u001b[49m\u001b[38;5;241;43m=\u001b[39;49m\u001b[43mna_action\u001b[49m\u001b[43m,\u001b[49m\u001b[43m \u001b[49m\u001b[43mconvert\u001b[49m\u001b[38;5;241;43m=\u001b[39;49m\u001b[43mconvert\u001b[49m\u001b[43m)\u001b[49m\n",
      "File \u001b[1;32mc:\\Users\\jules\\Documents\\BUT\\S6\\SAE\\RankFinder\\lib\\site-packages\\pandas\\core\\algorithms.py:1743\u001b[0m, in \u001b[0;36mmap_array\u001b[1;34m(arr, mapper, na_action, convert)\u001b[0m\n\u001b[0;32m   1741\u001b[0m values \u001b[38;5;241m=\u001b[39m arr\u001b[38;5;241m.\u001b[39mastype(\u001b[38;5;28mobject\u001b[39m, copy\u001b[38;5;241m=\u001b[39m\u001b[38;5;28;01mFalse\u001b[39;00m)\n\u001b[0;32m   1742\u001b[0m \u001b[38;5;28;01mif\u001b[39;00m na_action \u001b[38;5;129;01mis\u001b[39;00m \u001b[38;5;28;01mNone\u001b[39;00m:\n\u001b[1;32m-> 1743\u001b[0m     \u001b[38;5;28;01mreturn\u001b[39;00m \u001b[43mlib\u001b[49m\u001b[38;5;241;43m.\u001b[39;49m\u001b[43mmap_infer\u001b[49m\u001b[43m(\u001b[49m\u001b[43mvalues\u001b[49m\u001b[43m,\u001b[49m\u001b[43m \u001b[49m\u001b[43mmapper\u001b[49m\u001b[43m,\u001b[49m\u001b[43m \u001b[49m\u001b[43mconvert\u001b[49m\u001b[38;5;241;43m=\u001b[39;49m\u001b[43mconvert\u001b[49m\u001b[43m)\u001b[49m\n\u001b[0;32m   1744\u001b[0m \u001b[38;5;28;01melse\u001b[39;00m:\n\u001b[0;32m   1745\u001b[0m     \u001b[38;5;28;01mreturn\u001b[39;00m lib\u001b[38;5;241m.\u001b[39mmap_infer_mask(\n\u001b[0;32m   1746\u001b[0m         values, mapper, mask\u001b[38;5;241m=\u001b[39misna(values)\u001b[38;5;241m.\u001b[39mview(np\u001b[38;5;241m.\u001b[39muint8), convert\u001b[38;5;241m=\u001b[39mconvert\n\u001b[0;32m   1747\u001b[0m     )\n",
      "File \u001b[1;32mlib.pyx:2972\u001b[0m, in \u001b[0;36mpandas._libs.lib.map_infer\u001b[1;34m()\u001b[0m\n",
      "Cell \u001b[1;32mIn[117], line 2\u001b[0m, in \u001b[0;36mdistribution_of_book_score.<locals>.<lambda>\u001b[1;34m(x)\u001b[0m\n\u001b[0;32m      1\u001b[0m \u001b[38;5;28;01mdef\u001b[39;00m \u001b[38;5;21mdistribution_of_book_score\u001b[39m(books:pd\u001b[38;5;241m.\u001b[39mDataFrame, top_n\u001b[38;5;241m=\u001b[39m\u001b[38;5;241m10\u001b[39m):\n\u001b[1;32m----> 2\u001b[0m     books[\u001b[38;5;124m'\u001b[39m\u001b[38;5;124mGenre\u001b[39m\u001b[38;5;124m'\u001b[39m] \u001b[38;5;241m=\u001b[39m books[\u001b[38;5;124m'\u001b[39m\u001b[38;5;124mGenre\u001b[39m\u001b[38;5;124m'\u001b[39m]\u001b[38;5;241m.\u001b[39mapply(\u001b[38;5;28;01mlambda\u001b[39;00m x: \u001b[43mx\u001b[49m\u001b[38;5;241;43m.\u001b[39;49m\u001b[43mreplace\u001b[49m(\u001b[38;5;124m'\u001b[39m\u001b[38;5;124m[\u001b[39m\u001b[38;5;124m'\u001b[39m, \u001b[38;5;124m'\u001b[39m\u001b[38;5;124m'\u001b[39m)\u001b[38;5;241m.\u001b[39mreplace(\u001b[38;5;124m'\u001b[39m\u001b[38;5;124m]\u001b[39m\u001b[38;5;124m'\u001b[39m, \u001b[38;5;124m'\u001b[39m\u001b[38;5;124m'\u001b[39m))\n\u001b[0;32m      3\u001b[0m     \u001b[38;5;28mprint\u001b[39m(books[\u001b[38;5;124m'\u001b[39m\u001b[38;5;124mGenre\u001b[39m\u001b[38;5;124m'\u001b[39m]\u001b[38;5;241m.\u001b[39mhead())\n\u001b[0;32m      4\u001b[0m     books[\u001b[38;5;124m'\u001b[39m\u001b[38;5;124mGenre\u001b[39m\u001b[38;5;124m'\u001b[39m]\u001b[38;5;241m.\u001b[39mvalue_counts()\u001b[38;5;241m.\u001b[39mnlargest(top_n)\u001b[38;5;241m.\u001b[39mplot(kind\u001b[38;5;241m=\u001b[39m\u001b[38;5;124m'\u001b[39m\u001b[38;5;124mbar\u001b[39m\u001b[38;5;124m'\u001b[39m, figsize\u001b[38;5;241m=\u001b[39m(\u001b[38;5;241m10\u001b[39m, \u001b[38;5;241m6\u001b[39m), title\u001b[38;5;241m=\u001b[39m\u001b[38;5;124m'\u001b[39m\u001b[38;5;124mTop 20 Genres\u001b[39m\u001b[38;5;124m'\u001b[39m)\n",
      "\u001b[1;31mAttributeError\u001b[0m: 'float' object has no attribute 'replace'"
     ]
    }
   ],
   "source": [
    "distribution_of_book_score(books)"
   ]
  }
 ],
 "metadata": {
  "kernelspec": {
   "display_name": "RankFinder",
   "language": "python",
   "name": "python3"
  },
  "language_info": {
   "codemirror_mode": {
    "name": "ipython",
    "version": 3
   },
   "file_extension": ".py",
   "mimetype": "text/x-python",
   "name": "python",
   "nbconvert_exporter": "python",
   "pygments_lexer": "ipython3",
   "version": "3.10.11"
  }
 },
 "nbformat": 4,
 "nbformat_minor": 2
}
