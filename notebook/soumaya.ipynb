{
 "cells": [
  {
   "cell_type": "code",
   "execution_count": 4,
   "metadata": {},
   "outputs": [
    {
     "name": "stdout",
     "output_type": "stream",
     "text": [
      "                                                    Titre  Nb scores\n",
      "26834                                       The Alchemist     4895.0\n",
      "62005   A Mission to Millions; The Story of Ernie Alle...     4572.0\n",
      "76345                                            Unbroken     4572.0\n",
      "128081  Blue Like Jazz: Nonreligious Thoughts on Chris...     4562.0\n",
      "57822                                             Eclipse     4392.0\n",
      "...                                                   ...        ...\n",
      "212397  The Magic of the Soul: Applying Spiritual Powe...        NaN\n",
      "212398               Autodesk Inventor 10 Essentials Plus        NaN\n",
      "212400                            Red Boots for Christmas        NaN\n",
      "212401                                              Mamaw        NaN\n",
      "212403  Student's Solutions Manual for Johnson/Mowry's...        NaN\n",
      "\n",
      "[212404 rows x 2 columns]\n"
     ]
    }
   ],
   "source": [
    "import pandas as pd\n",
    "data = pd.read_csv('data/books_data_t.csv')\n",
    "\n",
    "data['Nb scores'] = pd.to_numeric(data['Nb scores'], errors='coerce')\n",
    "\n",
    "sorted_data = data.sort_values('Nb scores', ascending=False)\n",
    "\n",
    "print(sorted_data[['Titre', 'Nb scores']])\n"
   ]
  },
  {
   "cell_type": "code",
   "execution_count": null,
   "metadata": {},
   "outputs": [],
   "source": []
  },
  {
   "cell_type": "code",
   "execution_count": null,
   "metadata": {},
   "outputs": [],
   "source": []
  }
 ],
 "metadata": {
  "kernelspec": {
   "display_name": "Python 3",
   "language": "python",
   "name": "python3"
  },
  "language_info": {
   "codemirror_mode": {
    "name": "ipython",
    "version": 3
   },
   "file_extension": ".py",
   "mimetype": "text/x-python",
   "name": "python",
   "nbconvert_exporter": "python",
   "pygments_lexer": "ipython3",
   "version": "3.10.11"
  }
 },
 "nbformat": 4,
 "nbformat_minor": 2
}
