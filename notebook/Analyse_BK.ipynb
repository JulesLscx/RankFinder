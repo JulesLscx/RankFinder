{
 "cells": [
  {
   "cell_type": "code",
   "execution_count": 3,
   "outputs": [
    {
     "name": "stderr",
     "output_type": "stream",
     "text": [
      "C:\\Users\\Baran\\anaconda3\\lib\\site-packages\\scipy\\__init__.py:155: UserWarning: A NumPy version >=1.18.5 and <1.25.0 is required for this version of SciPy (detected version 1.26.2\n",
      "  warnings.warn(f\"A NumPy version >={np_minversion} and <{np_maxversion}\"\n"
     ]
    }
   ],
   "source": [
    "import pandas as pd\n",
    "import numpy as np\n",
    "import matplotlib.pyplot as plt\n",
    "import seaborn as sns\n",
    "import os\n",
    "import sys\n",
    "import re"
   ],
   "metadata": {
    "collapsed": false,
    "ExecuteTime": {
     "end_time": "2024-01-30T10:32:54.639702300Z",
     "start_time": "2024-01-30T10:32:49.506748700Z"
    }
   },
   "id": "c04f56d492450e4b"
  },
  {
   "cell_type": "code",
   "execution_count": 12,
   "outputs": [
    {
     "data": {
      "text/plain": "                                               Titre  \\\n0                     Its Only Art If Its Well Hung!   \n1                           Dr. Seuss: American Icon   \n2              Wonderful Worship in Smaller Churches   \n3                      Whispers of the Wicked Saints   \n4  Nation Dance: Religion, Identity and Cultural ...   \n\n                                         Description              Auteurs  \\\n0                                                NaN     ['Julie Strain']   \n1  Philip Nel takes a fascinating look into the k...       ['Philip Nel']   \n2  This resource includes twelve principles in un...     ['David R. Ray']   \n3  Julia Thomas finds her life spinning out of co...  ['Veronica Haddon']   \n4                                                NaN      ['Edward Long']   \n\n                                               Image  \\\n0  http://books.google.com/books/content?id=DykPA...   \n1  http://books.google.com/books/content?id=IjvHQ...   \n2  http://books.google.com/books/content?id=2tsDA...   \n3  http://books.google.com/books/content?id=aRSIg...   \n4                                                NaN   \n\n                                         Lien Google    Editeur  \\\n0  http://books.google.nl/books?id=DykPAAAACAAJ&d...        NaN   \n1  http://books.google.nl/books?id=IjvHQsCn_pgC&p...  A&C Black   \n2  http://books.google.nl/books?id=2tsDAAAACAAJ&d...        NaN   \n3  http://books.google.nl/books?id=aRSIgJlq6JwC&d...  iUniverse   \n4  http://books.google.nl/books?id=399SPgAACAAJ&d...        NaN   \n\n  Date publication                                           infoLink  \\\n0             1996  http://books.google.nl/books?id=DykPAAAACAAJ&d...   \n1       01/01/2005  http://books.google.nl/books?id=IjvHQsCn_pgC&d...   \n2             2000  http://books.google.nl/books?id=2tsDAAAACAAJ&d...   \n3          2005-02  http://books.google.nl/books?id=aRSIgJlq6JwC&d...   \n4       01/03/2003  http://books.google.nl/books?id=399SPgAACAAJ&d...   \n\n                           Genre  Nb scores  \n0    ['Comics & Graphic Novels']        NaN  \n1  ['Biography & Autobiography']        NaN  \n2                   ['Religion']        NaN  \n3                    ['Fiction']        NaN  \n4                            NaN        NaN  ",
      "text/html": "<div>\n<style scoped>\n    .dataframe tbody tr th:only-of-type {\n        vertical-align: middle;\n    }\n\n    .dataframe tbody tr th {\n        vertical-align: top;\n    }\n\n    .dataframe thead th {\n        text-align: right;\n    }\n</style>\n<table border=\"1\" class=\"dataframe\">\n  <thead>\n    <tr style=\"text-align: right;\">\n      <th></th>\n      <th>Titre</th>\n      <th>Description</th>\n      <th>Auteurs</th>\n      <th>Image</th>\n      <th>Lien Google</th>\n      <th>Editeur</th>\n      <th>Date publication</th>\n      <th>infoLink</th>\n      <th>Genre</th>\n      <th>Nb scores</th>\n    </tr>\n  </thead>\n  <tbody>\n    <tr>\n      <th>0</th>\n      <td>Its Only Art If Its Well Hung!</td>\n      <td>NaN</td>\n      <td>['Julie Strain']</td>\n      <td>http://books.google.com/books/content?id=DykPA...</td>\n      <td>http://books.google.nl/books?id=DykPAAAACAAJ&amp;d...</td>\n      <td>NaN</td>\n      <td>1996</td>\n      <td>http://books.google.nl/books?id=DykPAAAACAAJ&amp;d...</td>\n      <td>['Comics &amp; Graphic Novels']</td>\n      <td>NaN</td>\n    </tr>\n    <tr>\n      <th>1</th>\n      <td>Dr. Seuss: American Icon</td>\n      <td>Philip Nel takes a fascinating look into the k...</td>\n      <td>['Philip Nel']</td>\n      <td>http://books.google.com/books/content?id=IjvHQ...</td>\n      <td>http://books.google.nl/books?id=IjvHQsCn_pgC&amp;p...</td>\n      <td>A&amp;C Black</td>\n      <td>01/01/2005</td>\n      <td>http://books.google.nl/books?id=IjvHQsCn_pgC&amp;d...</td>\n      <td>['Biography &amp; Autobiography']</td>\n      <td>NaN</td>\n    </tr>\n    <tr>\n      <th>2</th>\n      <td>Wonderful Worship in Smaller Churches</td>\n      <td>This resource includes twelve principles in un...</td>\n      <td>['David R. Ray']</td>\n      <td>http://books.google.com/books/content?id=2tsDA...</td>\n      <td>http://books.google.nl/books?id=2tsDAAAACAAJ&amp;d...</td>\n      <td>NaN</td>\n      <td>2000</td>\n      <td>http://books.google.nl/books?id=2tsDAAAACAAJ&amp;d...</td>\n      <td>['Religion']</td>\n      <td>NaN</td>\n    </tr>\n    <tr>\n      <th>3</th>\n      <td>Whispers of the Wicked Saints</td>\n      <td>Julia Thomas finds her life spinning out of co...</td>\n      <td>['Veronica Haddon']</td>\n      <td>http://books.google.com/books/content?id=aRSIg...</td>\n      <td>http://books.google.nl/books?id=aRSIgJlq6JwC&amp;d...</td>\n      <td>iUniverse</td>\n      <td>2005-02</td>\n      <td>http://books.google.nl/books?id=aRSIgJlq6JwC&amp;d...</td>\n      <td>['Fiction']</td>\n      <td>NaN</td>\n    </tr>\n    <tr>\n      <th>4</th>\n      <td>Nation Dance: Religion, Identity and Cultural ...</td>\n      <td>NaN</td>\n      <td>['Edward Long']</td>\n      <td>NaN</td>\n      <td>http://books.google.nl/books?id=399SPgAACAAJ&amp;d...</td>\n      <td>NaN</td>\n      <td>01/03/2003</td>\n      <td>http://books.google.nl/books?id=399SPgAACAAJ&amp;d...</td>\n      <td>NaN</td>\n      <td>NaN</td>\n    </tr>\n  </tbody>\n</table>\n</div>"
     },
     "execution_count": 12,
     "metadata": {},
     "output_type": "execute_result"
    }
   ],
   "source": [
    "path = \"../data/books_data_t.csv\"\n",
    "df = pd.read_csv(path)\n",
    "df.head()"
   ],
   "metadata": {
    "collapsed": false,
    "ExecuteTime": {
     "end_time": "2024-01-30T10:36:59.674481Z",
     "start_time": "2024-01-30T10:36:54.702106800Z"
    }
   },
   "id": "7dbe6099d4c3fdf1"
  },
  {
   "cell_type": "code",
   "execution_count": 13,
   "outputs": [
    {
     "name": "stdout",
     "output_type": "stream",
     "text": [
      "<class 'pandas.core.frame.DataFrame'>\n",
      "RangeIndex: 212404 entries, 0 to 212403\n",
      "Data columns (total 10 columns):\n",
      " #   Column            Non-Null Count   Dtype  \n",
      "---  ------            --------------   -----  \n",
      " 0   Titre             212403 non-null  object \n",
      " 1   Description       143962 non-null  object \n",
      " 2   Auteurs           180991 non-null  object \n",
      " 3   Image             160329 non-null  object \n",
      " 4   Lien Google       188568 non-null  object \n",
      " 5   Editeur           136518 non-null  object \n",
      " 6   Date publication  187099 non-null  object \n",
      " 7   infoLink          188568 non-null  object \n",
      " 8   Genre             171205 non-null  object \n",
      " 9   Nb scores         49752 non-null   float64\n",
      "dtypes: float64(1), object(9)\n",
      "memory usage: 16.2+ MB\n"
     ]
    }
   ],
   "source": [
    "df.info()"
   ],
   "metadata": {
    "collapsed": false,
    "ExecuteTime": {
     "end_time": "2024-01-30T10:37:16.802891400Z",
     "start_time": "2024-01-30T10:37:16.338503300Z"
    }
   },
   "id": "c41b555cd70e1878"
  },
  {
   "cell_type": "code",
   "execution_count": null,
   "outputs": [],
   "source": [
    "df.describe()"
   ],
   "metadata": {
    "collapsed": false
   },
   "id": "fa06a99074753a08"
  },
  {
   "cell_type": "code",
   "execution_count": 15,
   "outputs": [
    {
     "data": {
      "text/plain": "Index(['Titre', 'Description', 'Auteurs', 'Image', 'Lien Google', 'Editeur',\n       'Date publication', 'infoLink', 'Genre', 'Nb scores'],\n      dtype='object')"
     },
     "execution_count": 15,
     "metadata": {},
     "output_type": "execute_result"
    }
   ],
   "source": [
    "df.columns"
   ],
   "metadata": {
    "collapsed": false,
    "ExecuteTime": {
     "end_time": "2024-01-30T10:37:20.774173200Z",
     "start_time": "2024-01-30T10:37:20.740885300Z"
    }
   },
   "id": "91210e8830a3797b"
  },
  {
   "cell_type": "code",
   "execution_count": 16,
   "outputs": [
    {
     "data": {
      "text/plain": "Its Only Art If Its Well Hung!                                                                1\nCAUGHT IN THE NET                                                                             1\nHalo 2: The Official Game Guide                                                               1\nThe Black Prince                                                                              1\nHappy Birthday, Biscuit!                                                                      1\n                                                                                             ..\nWhen Dinosaurs Go to School                                                                   1\nBusted! (Sweet Valley University(R))                                                          1\nSeismic Isolation for Earthquake Resistant Structures (Advances in Earthquake Engineering)    1\nMel Bay Presents Complete Book of Wedding Music for Flute or Violin                           1\nStudent's Solutions Manual for Johnson/Mowry's Mathematics: A Practical Odyssey               1\nName: Titre, Length: 212403, dtype: int64"
     },
     "execution_count": 16,
     "metadata": {},
     "output_type": "execute_result"
    }
   ],
   "source": [
    "df['Titre'].value_counts()"
   ],
   "metadata": {
    "collapsed": false,
    "ExecuteTime": {
     "end_time": "2024-01-30T10:37:21.263911100Z",
     "start_time": "2024-01-30T10:37:20.816682200Z"
    }
   },
   "id": "fa2406d11e644fc1"
  },
  {
   "cell_type": "code",
   "execution_count": 17,
   "outputs": [
    {
     "data": {
      "text/plain": "Titre                    1\nDescription          68442\nAuteurs              31413\nImage                52075\nLien Google          23836\nEditeur              75886\nDate publication     25305\ninfoLink             23836\nGenre                41199\nNb scores           162652\ndtype: int64"
     },
     "execution_count": 17,
     "metadata": {},
     "output_type": "execute_result"
    }
   ],
   "source": [
    "df.isnull().sum()"
   ],
   "metadata": {
    "collapsed": false,
    "ExecuteTime": {
     "end_time": "2024-01-30T10:37:55.550394300Z",
     "start_time": "2024-01-30T10:37:54.971518800Z"
    }
   },
   "id": "bc8ba624efcfad0"
  },
  {
   "cell_type": "code",
   "execution_count": 19,
   "outputs": [
    {
     "name": "stderr",
     "output_type": "stream",
     "text": [
      "[nltk_data] Downloading package stopwords to\n",
      "[nltk_data]     C:\\Users\\Baran\\AppData\\Roaming\\nltk_data...\n",
      "[nltk_data]   Package stopwords is already up-to-date!\n"
     ]
    }
   ],
   "source": [
    "from collections import Counter\n",
    "import nltk\n",
    "nltk.download('stopwords')\n",
    "from nltk.corpus import stopwords\n",
    "from nltk.tokenize import word_tokenize"
   ],
   "metadata": {
    "collapsed": false,
    "ExecuteTime": {
     "end_time": "2024-01-30T10:40:00.347740400Z",
     "start_time": "2024-01-30T10:39:58.617131700Z"
    }
   },
   "id": "36dddb9744d3523e"
  },
  {
   "cell_type": "code",
   "execution_count": 20,
   "outputs": [
    {
     "name": "stdout",
     "output_type": "stream",
     "text": [
      "[('the', 810250), ('and', 642843), ('of', 586324), ('to', 367658), ('a', 327340), ('in', 259242), ('is', 151384), ('s', 139408), ('for', 134564), ('with', 112455)]\n"
     ]
    }
   ],
   "source": [
    "from collections import Counter\n",
    "import re\n",
    "\n",
    "# Combine all book descriptions into one text\n",
    "text = df['Description'].dropna().str.cat(sep=' ')\n",
    "\n",
    "# Split the text into individual words\n",
    "words = re.findall(r'\\b\\w+\\b', text)\n",
    "\n",
    "# Use Counter to count the frequency of each word\n",
    "word_freq = Counter(words)\n",
    "\n",
    "# Display the most common words\n",
    "common_words = word_freq.most_common(10)\n",
    "\n",
    "print(common_words)"
   ],
   "metadata": {
    "collapsed": false,
    "ExecuteTime": {
     "end_time": "2024-01-30T10:40:38.568600600Z",
     "start_time": "2024-01-30T10:40:26.414764700Z"
    }
   },
   "id": "5e9f190467c6022d"
  },
  {
   "cell_type": "code",
   "execution_count": null,
   "outputs": [],
   "source": [
    "text_Without_stopwords = []\n",
    "for word in words:\n",
    "    if word not in stopwords.words('french'):\n",
    "        text_Without_stopwords.append(word)"
   ],
   "metadata": {
    "collapsed": false,
    "is_executing": true,
    "ExecuteTime": {
     "start_time": "2024-01-30T10:41:39.023790Z"
    }
   },
   "id": "577e83094c304d49"
  },
  {
   "cell_type": "code",
   "execution_count": null,
   "outputs": [],
   "source": [
    "# Maintenant analyse après avoir enlevé les stopwords\n",
    "word_freq = Counter(text_Without_stopwords)\n",
    "\n",
    "# Display the most common words\n",
    "common_words = word_freq.most_common(10)\n",
    "\n",
    "print(common_words)"
   ],
   "metadata": {
    "collapsed": false,
    "is_executing": true
   },
   "id": "b891455533912a81"
  },
  {
   "cell_type": "markdown",
   "source": [],
   "metadata": {
    "collapsed": false
   },
   "id": "88e77b6ac69e987e"
  },
  {
   "cell_type": "code",
   "execution_count": null,
   "outputs": [],
   "source": [],
   "metadata": {
    "collapsed": false
   },
   "id": "f6d0713a896c69bc"
  }
 ],
 "metadata": {
  "kernelspec": {
   "display_name": "Python 3",
   "language": "python",
   "name": "python3"
  },
  "language_info": {
   "codemirror_mode": {
    "name": "ipython",
    "version": 2
   },
   "file_extension": ".py",
   "mimetype": "text/x-python",
   "name": "python",
   "nbconvert_exporter": "python",
   "pygments_lexer": "ipython2",
   "version": "2.7.6"
  }
 },
 "nbformat": 4,
 "nbformat_minor": 5
}
