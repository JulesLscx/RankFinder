{
 "cells": [
  {
   "cell_type": "code",
   "execution_count": 1,
   "metadata": {},
   "outputs": [
    {
     "name": "stderr",
     "output_type": "stream",
     "text": [
      "C:\\Users\\tetex\\AppData\\Local\\Packages\\PythonSoftwareFoundation.Python.3.10_qbz5n2kfra8p0\\LocalCache\\local-packages\\Python310\\site-packages\\tqdm\\auto.py:21: TqdmWarning: IProgress not found. Please update jupyter and ipywidgets. See https://ipywidgets.readthedocs.io/en/stable/user_install.html\n",
      "  from .autonotebook import tqdm as notebook_tqdm\n"
     ]
    }
   ],
   "source": [
    "from sklearn.model_selection import train_test_split\n",
    "from sklearn.feature_extraction.text import CountVectorizer, TfidfVectorizer\n",
    "from sklearn.ensemble import RandomForestClassifier\n",
    "from sklearn.linear_model import LogisticRegression\n",
    "from sklearn.preprocessing import LabelEncoder\n",
    "from transformers import BertTokenizer, BertModel\n",
    "from sklearn.metrics import accuracy_score, log_loss\n",
    "import numpy as np\n",
    "import pandas as pd\n",
    "import nltk\n",
    "from sklearn.neighbors import KNeighborsClassifier"
   ]
  },
  {
   "cell_type": "code",
   "execution_count": 2,
   "metadata": {},
   "outputs": [
    {
     "data": {
      "text/html": [
       "<div>\n",
       "<style scoped>\n",
       "    .dataframe tbody tr th:only-of-type {\n",
       "        vertical-align: middle;\n",
       "    }\n",
       "\n",
       "    .dataframe tbody tr th {\n",
       "        vertical-align: top;\n",
       "    }\n",
       "\n",
       "    .dataframe thead th {\n",
       "        text-align: right;\n",
       "    }\n",
       "</style>\n",
       "<table border=\"1\" class=\"dataframe\">\n",
       "  <thead>\n",
       "    <tr style=\"text-align: right;\">\n",
       "      <th></th>\n",
       "      <th>Id</th>\n",
       "      <th>Titre</th>\n",
       "      <th>Prix</th>\n",
       "      <th>User_id</th>\n",
       "      <th>Nom lecteur</th>\n",
       "      <th>revue/utilité</th>\n",
       "      <th>revue/score</th>\n",
       "      <th>revue/heure</th>\n",
       "      <th>revue/résumé</th>\n",
       "      <th>revue/texte</th>\n",
       "    </tr>\n",
       "  </thead>\n",
       "  <tbody>\n",
       "    <tr>\n",
       "      <th>0</th>\n",
       "      <td>B0006CR6U4</td>\n",
       "      <td>A dictionary of the Targumim, the Talmud Babli...</td>\n",
       "      <td>NaN</td>\n",
       "      <td>A303XPDO694V6X</td>\n",
       "      <td>Ariel</td>\n",
       "      <td>2/6</td>\n",
       "      <td>4.0</td>\n",
       "      <td>1122163200</td>\n",
       "      <td>Jastrow</td>\n",
       "      <td>Jastrow made a great workthis dictionary can h...</td>\n",
       "    </tr>\n",
       "    <tr>\n",
       "      <th>1</th>\n",
       "      <td>0897166159</td>\n",
       "      <td>Espresso Coffee: Professional Techniques</td>\n",
       "      <td>NaN</td>\n",
       "      <td>A3780H4TM9RMB8</td>\n",
       "      <td>David barnes</td>\n",
       "      <td>0/1</td>\n",
       "      <td>2.0</td>\n",
       "      <td>1356912000</td>\n",
       "      <td>NOT the book</td>\n",
       "      <td>Extremely disappointed by the SHORT length and...</td>\n",
       "    </tr>\n",
       "    <tr>\n",
       "      <th>2</th>\n",
       "      <td>0736693408</td>\n",
       "      <td>The First King of Shannara (The Sword of Shann...</td>\n",
       "      <td>NaN</td>\n",
       "      <td>A1AX6VPDQQZDPV</td>\n",
       "      <td>M Carlton</td>\n",
       "      <td>4/4</td>\n",
       "      <td>5.0</td>\n",
       "      <td>1105574400</td>\n",
       "      <td>Great (what do you expect?)</td>\n",
       "      <td>This, like all of Brook's Shannara series book...</td>\n",
       "    </tr>\n",
       "    <tr>\n",
       "      <th>3</th>\n",
       "      <td>0395051029</td>\n",
       "      <td>Wuthering Heights (Riverside editions)</td>\n",
       "      <td>NaN</td>\n",
       "      <td>A35RQKCCCQ62O0</td>\n",
       "      <td>LadyJ</td>\n",
       "      <td>0/0</td>\n",
       "      <td>4.0</td>\n",
       "      <td>1353888000</td>\n",
       "      <td>Satisfied</td>\n",
       "      <td>I enjoyed this classic. I didn't know the stor...</td>\n",
       "    </tr>\n",
       "    <tr>\n",
       "      <th>4</th>\n",
       "      <td>4770016050</td>\n",
       "      <td>A Cat, a Man, and Two Women (Japans Modern Wri...</td>\n",
       "      <td>NaN</td>\n",
       "      <td>A2IJQDE1I4SIJT</td>\n",
       "      <td>David C. Arnold \"master D\"</td>\n",
       "      <td>1/2</td>\n",
       "      <td>5.0</td>\n",
       "      <td>1167955200</td>\n",
       "      <td>Ordered 09/02/2006, still on backorder</td>\n",
       "      <td>I would love to read this book. Have accepted ...</td>\n",
       "    </tr>\n",
       "  </tbody>\n",
       "</table>\n",
       "</div>"
      ],
      "text/plain": [
       "           Id                                              Titre  Prix  \\\n",
       "0  B0006CR6U4  A dictionary of the Targumim, the Talmud Babli...   NaN   \n",
       "1  0897166159           Espresso Coffee: Professional Techniques   NaN   \n",
       "2  0736693408  The First King of Shannara (The Sword of Shann...   NaN   \n",
       "3  0395051029             Wuthering Heights (Riverside editions)   NaN   \n",
       "4  4770016050  A Cat, a Man, and Two Women (Japans Modern Wri...   NaN   \n",
       "\n",
       "          User_id                 Nom lecteur revue/utilité  revue/score  \\\n",
       "0  A303XPDO694V6X                       Ariel           2/6          4.0   \n",
       "1  A3780H4TM9RMB8                David barnes           0/1          2.0   \n",
       "2  A1AX6VPDQQZDPV                   M Carlton           4/4          5.0   \n",
       "3  A35RQKCCCQ62O0                       LadyJ           0/0          4.0   \n",
       "4  A2IJQDE1I4SIJT  David C. Arnold \"master D\"           1/2          5.0   \n",
       "\n",
       "   revue/heure                            revue/résumé  \\\n",
       "0   1122163200                                 Jastrow   \n",
       "1   1356912000                            NOT the book   \n",
       "2   1105574400             Great (what do you expect?)   \n",
       "3   1353888000                               Satisfied   \n",
       "4   1167955200  Ordered 09/02/2006, still on backorder   \n",
       "\n",
       "                                         revue/texte  \n",
       "0  Jastrow made a great workthis dictionary can h...  \n",
       "1  Extremely disappointed by the SHORT length and...  \n",
       "2  This, like all of Brook's Shannara series book...  \n",
       "3  I enjoyed this classic. I didn't know the stor...  \n",
       "4  I would love to read this book. Have accepted ...  "
      ]
     },
     "execution_count": 2,
     "metadata": {},
     "output_type": "execute_result"
    }
   ],
   "source": [
    "# Charger le fichier CSV\n",
    "file_path = '../data/Sample_Books_rating.csv'\n",
    "data = pd.read_csv(file_path)\n",
    "\n",
    "# Afficher les premières lignes pour comprendre la structure\n",
    "data.head()"
   ]
  },
  {
   "cell_type": "code",
   "execution_count": 3,
   "metadata": {},
   "outputs": [
    {
     "data": {
      "text/html": [
       "<div>\n",
       "<style scoped>\n",
       "    .dataframe tbody tr th:only-of-type {\n",
       "        vertical-align: middle;\n",
       "    }\n",
       "\n",
       "    .dataframe tbody tr th {\n",
       "        vertical-align: top;\n",
       "    }\n",
       "\n",
       "    .dataframe thead th {\n",
       "        text-align: right;\n",
       "    }\n",
       "</style>\n",
       "<table border=\"1\" class=\"dataframe\">\n",
       "  <thead>\n",
       "    <tr style=\"text-align: right;\">\n",
       "      <th></th>\n",
       "      <th>revue/texte</th>\n",
       "      <th>Polarité</th>\n",
       "      <th>revue/score</th>\n",
       "    </tr>\n",
       "  </thead>\n",
       "  <tbody>\n",
       "    <tr>\n",
       "      <th>0</th>\n",
       "      <td>Jastrow made a great workthis dictionary can h...</td>\n",
       "      <td>Positif</td>\n",
       "      <td>4.0</td>\n",
       "    </tr>\n",
       "    <tr>\n",
       "      <th>1</th>\n",
       "      <td>Extremely disappointed by the SHORT length and...</td>\n",
       "      <td>Négatif</td>\n",
       "      <td>2.0</td>\n",
       "    </tr>\n",
       "    <tr>\n",
       "      <th>2</th>\n",
       "      <td>This, like all of Brook's Shannara series book...</td>\n",
       "      <td>Positif</td>\n",
       "      <td>5.0</td>\n",
       "    </tr>\n",
       "    <tr>\n",
       "      <th>3</th>\n",
       "      <td>I enjoyed this classic. I didn't know the stor...</td>\n",
       "      <td>Positif</td>\n",
       "      <td>4.0</td>\n",
       "    </tr>\n",
       "    <tr>\n",
       "      <th>4</th>\n",
       "      <td>I would love to read this book. Have accepted ...</td>\n",
       "      <td>Positif</td>\n",
       "      <td>5.0</td>\n",
       "    </tr>\n",
       "  </tbody>\n",
       "</table>\n",
       "</div>"
      ],
      "text/plain": [
       "                                         revue/texte Polarité  revue/score\n",
       "0  Jastrow made a great workthis dictionary can h...  Positif          4.0\n",
       "1  Extremely disappointed by the SHORT length and...  Négatif          2.0\n",
       "2  This, like all of Brook's Shannara series book...  Positif          5.0\n",
       "3  I enjoyed this classic. I didn't know the stor...  Positif          4.0\n",
       "4  I would love to read this book. Have accepted ...  Positif          5.0"
      ]
     },
     "execution_count": 3,
     "metadata": {},
     "output_type": "execute_result"
    }
   ],
   "source": [
    "# Prétraitement des données\n",
    "data['Polarité'] = data['revue/score'].apply(lambda x: 'Positif' if x > 3 else ('Négatif' if x < 3 else 'Neutre'))\n",
    "data = data[['revue/texte', 'Polarité', 'revue/score']].dropna()\n",
    "\n",
    "data.head()"
   ]
  },
  {
   "cell_type": "code",
   "execution_count": 4,
   "metadata": {},
   "outputs": [
    {
     "name": "stderr",
     "output_type": "stream",
     "text": [
      "C:\\Users\\tetex\\AppData\\Local\\Packages\\PythonSoftwareFoundation.Python.3.10_qbz5n2kfra8p0\\LocalCache\\local-packages\\Python310\\site-packages\\sklearn\\utils\\validation.py:605: FutureWarning: is_sparse is deprecated and will be removed in a future version. Check `isinstance(dtype, pd.SparseDtype)` instead.\n",
      "  if is_sparse(pd_dtype):\n",
      "C:\\Users\\tetex\\AppData\\Local\\Packages\\PythonSoftwareFoundation.Python.3.10_qbz5n2kfra8p0\\LocalCache\\local-packages\\Python310\\site-packages\\sklearn\\utils\\validation.py:614: FutureWarning: is_sparse is deprecated and will be removed in a future version. Check `isinstance(dtype, pd.SparseDtype)` instead.\n",
      "  if is_sparse(pd_dtype) or not is_extension_array_dtype(pd_dtype):\n",
      "C:\\Users\\tetex\\AppData\\Local\\Packages\\PythonSoftwareFoundation.Python.3.10_qbz5n2kfra8p0\\LocalCache\\local-packages\\Python310\\site-packages\\sklearn\\utils\\validation.py:605: FutureWarning: is_sparse is deprecated and will be removed in a future version. Check `isinstance(dtype, pd.SparseDtype)` instead.\n",
      "  if is_sparse(pd_dtype):\n",
      "C:\\Users\\tetex\\AppData\\Local\\Packages\\PythonSoftwareFoundation.Python.3.10_qbz5n2kfra8p0\\LocalCache\\local-packages\\Python310\\site-packages\\sklearn\\utils\\validation.py:614: FutureWarning: is_sparse is deprecated and will be removed in a future version. Check `isinstance(dtype, pd.SparseDtype)` instead.\n",
      "  if is_sparse(pd_dtype) or not is_extension_array_dtype(pd_dtype):\n"
     ]
    }
   ],
   "source": [
    "# Séparation des données\n",
    "X_train, X_test, y_train, y_test = train_test_split(data['revue/texte'], data['Polarité'], test_size=0.2, random_state=42)\n",
    "# Encodage de la polarité pour la classification\n",
    "le = LabelEncoder()\n",
    "y_train_polarity = le.fit_transform(y_train)\n",
    "y_test_polarity = le.transform(y_test)"
   ]
  },
  {
   "cell_type": "code",
   "execution_count": 5,
   "metadata": {},
   "outputs": [],
   "source": [
    "list_to_avoid = nltk.corpus.stopwords.words('english') + ['great', 'books', 'quot', 'life', 'read', 'time', 'story', 'one', 'book', 'like']"
   ]
  },
  {
   "cell_type": "code",
   "execution_count": 6,
   "metadata": {},
   "outputs": [],
   "source": [
    "# Représentation de texte - Mots simples\n",
    "vect_simple = CountVectorizer(stop_words=list_to_avoid)\n",
    "X_train_simple = vect_simple.fit_transform(X_train)\n",
    "X_test_simple = vect_simple.transform(X_test)\n",
    "\n",
    "# Représentation de texte - TF-IDF\n",
    "vect_tfidf = TfidfVectorizer(stop_words=list_to_avoid)\n",
    "X_train_tfidf = vect_tfidf.fit_transform(X_train)\n",
    "X_test_tfidf = vect_tfidf.transform(X_test)"
   ]
  },
  {
   "cell_type": "code",
   "execution_count": 7,
   "metadata": {},
   "outputs": [],
   "source": [
    "# Modélisation - Exemple avec RandomForest pour la polarité\n",
    "model_rfc = RandomForestClassifier()\n",
    "model_rfc.fit(X_train_simple, y_train_polarity)\n",
    "y_pred1 = model_rfc.predict(X_test_simple)\n",
    "\n",
    "model_rfc2 = RandomForestClassifier()\n",
    "model_rfc2.fit(X_train_tfidf, y_train_polarity)\n",
    "y_pred2 = model_rfc2.predict(X_test_tfidf)"
   ]
  },
  {
   "cell_type": "code",
   "execution_count": 8,
   "metadata": {},
   "outputs": [
    {
     "name": "stdout",
     "output_type": "stream",
     "text": [
      "Accuracy mots simples: 0.808\n",
      "Loss mots simples: 0.6684265211444668\n",
      "Accuracy Tf-Idf: 0.804\n",
      "Loss Tf-Idf: 0.5891608024544377\n"
     ]
    }
   ],
   "source": [
    "# Remarque: L'entraînement et l'évaluation des modèles ne sont pas inclus dans ce code.\n",
    "# évaluation des modèles accuracy_score et log_loss\n",
    "print(\"Accuracy mots simples:\",accuracy_score(y_test_polarity, y_pred1))\n",
    "print(\"Loss mots simples:\",log_loss(y_test_polarity, model_rfc.predict_proba(X_test_simple)))\n",
    "\n",
    "print(\"Accuracy Tf-Idf:\",accuracy_score(y_test_polarity, y_pred2))\n",
    "print(\"Loss Tf-Idf:\",log_loss(y_test_polarity, model_rfc2.predict_proba(X_test_tfidf)))"
   ]
  }
 ],
 "metadata": {
  "kernelspec": {
   "display_name": "Python 3",
   "language": "python",
   "name": "python3"
  },
  "language_info": {
   "codemirror_mode": {
    "name": "ipython",
    "version": 3
   },
   "file_extension": ".py",
   "mimetype": "text/x-python",
   "name": "python",
   "nbconvert_exporter": "python",
   "pygments_lexer": "ipython3",
   "version": "3.10.11"
  }
 },
 "nbformat": 4,
 "nbformat_minor": 2
}
