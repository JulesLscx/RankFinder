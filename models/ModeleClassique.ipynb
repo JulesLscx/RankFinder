{
 "cells": [
  {
   "cell_type": "code",
   "execution_count": null,
   "metadata": {},
   "outputs": [],
   "source": [
    "from sklearn.model_selection import train_test_split\n",
    "from sklearn.feature_extraction.text import CountVectorizer, TfidfVectorizer\n",
    "from sklearn.ensemble import RandomForestClassifier\n",
    "from sklearn.linear_model import LogisticRegression\n",
    "from sklearn.preprocessing import LabelEncoder\n",
    "from transformers import BertTokenizer, BertModel\n",
    "from sklearn.metrics import accuracy_score, log_loss\n",
    "import numpy as np\n",
    "import pandas as pd"
   ]
  },
  {
   "cell_type": "code",
   "execution_count": null,
   "metadata": {},
   "outputs": [],
   "source": [
    "# Charger le fichier CSV\n",
    "file_path = '../data/Sample_Books_rating.csv'\n",
    "data = pd.read_csv(file_path)\n",
    "\n",
    "# Afficher les premières lignes pour comprendre la structure\n",
    "data.head()"
   ]
  },
  {
   "cell_type": "code",
   "execution_count": null,
   "metadata": {},
   "outputs": [],
   "source": [
    "# Prétraitement des données\n",
    "data['Polarité'] = data['revue/score'].apply(lambda x: 'Positif' if x > 3 else ('Négatif' if x < 3 else 'Neutre'))\n",
    "data = data[['revue/texte', 'Polarité', 'revue/score']].dropna()\n",
    "\n",
    "# Séparation des données\n",
    "X_train, X_test, y_train, y_test = train_test_split(data['revue/texte'], data[['Polarité', 'revue/score']], test_size=0.2, random_state=42)\n",
    "\n",
    "# Encodage de la polarité pour la classification\n",
    "le = LabelEncoder()\n",
    "y_train_polarity = le.fit_transform(y_train['Polarité'])\n",
    "y_test_polarity = le.transform(y_test['Polarité'])"
   ]
  },
  {
   "cell_type": "code",
   "execution_count": null,
   "metadata": {},
   "outputs": [],
   "source": [
    "# Représentation de texte - Mots simples\n",
    "vect_simple = CountVectorizer(stop_words='english')\n",
    "X_train_simple = vect_simple.fit_transform(X_train)\n",
    "X_test_simple = vect_simple.transform(X_test)\n",
    "\n",
    "# Représentation de texte - TF-IDF\n",
    "vect_tfidf = TfidfVectorizer(stop_words='english')\n",
    "X_train_tfidf = vect_tfidf.fit_transform(X_train)\n",
    "X_test_tfidf = vect_tfidf.transform(X_test)"
   ]
  },
  {
   "cell_type": "code",
   "execution_count": null,
   "metadata": {},
   "outputs": [],
   "source": [
    "# Modélisation - Exemple avec RandomForest pour la polarité\n",
    "model_rfc = RandomForestClassifier()\n",
    "model_rfc.fit(X_train_simple, y_train_polarity)\n",
    "y_pred1 = model_rfc.predict(X_test_simple)\n",
    "\n",
    "model_rfc2 = RandomForestClassifier()\n",
    "model_rfc2.fit(X_train_tfidf, y_train_polarity)\n",
    "y_pred2 = model_rfc2.predict(X_test_tfidf)"
   ]
  },
  {
   "cell_type": "code",
   "execution_count": null,
   "metadata": {},
   "outputs": [],
   "source": [
    "# Remarque: L'entraînement et l'évaluation des modèles ne sont pas inclus dans ce code.\n",
    "# évaluation des modèles accuracy_score et log_loss\n",
    "print(\"Accuracy mots simples:\",accuracy_score(y_test_polarity, y_pred1))\n",
    "print(\"Loss mots simples:\",log_loss(y_test_polarity, model_rfc.predict_proba(X_test_simple)))\n",
    "\n",
    "print(\"Accuracy Tf-Idf:\",accuracy_score(y_test_polarity, y_pred2))\n",
    "print(\"Loss Tf-Idf:\",log_loss(y_test_polarity, model_rfc2.predict_proba(X_test_tfidf)))"
   ]
  }
 ],
 "metadata": {
  "language_info": {
   "name": "python"
  }
 },
 "nbformat": 4,
 "nbformat_minor": 2
}
