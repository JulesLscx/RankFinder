{
 "cells": [
  {
   "cell_type": "code",
   "execution_count": 1,
   "metadata": {},
   "outputs": [
    {
     "name": "stderr",
     "output_type": "stream",
     "text": [
      "c:\\Users\\jules\\Documents\\BUT\\S6\\SAE\\RankFinder\\lib\\site-packages\\tqdm\\auto.py:21: TqdmWarning: IProgress not found. Please update jupyter and ipywidgets. See https://ipywidgets.readthedocs.io/en/stable/user_install.html\n",
      "  from .autonotebook import tqdm as notebook_tqdm\n",
      "C:\\Users\\jules\\AppData\\Local\\Temp\\ipykernel_3712\\3339961909.py:9: DeprecationWarning: \n",
      "Pyarrow will become a required dependency of pandas in the next major release of pandas (pandas 3.0),\n",
      "(to allow more performant data types, such as the Arrow string type, and better interoperability with other libraries)\n",
      "but was not found to be installed on your system.\n",
      "If this would cause problems for you,\n",
      "please provide us feedback at https://github.com/pandas-dev/pandas/issues/54466\n",
      "        \n",
      "  import pandas as pd\n"
     ]
    }
   ],
   "source": [
    "from sklearn.model_selection import train_test_split\n",
    "from sklearn.feature_extraction.text import CountVectorizer, TfidfVectorizer\n",
    "from sklearn.ensemble import RandomForestClassifier\n",
    "from sklearn.linear_model import LogisticRegression\n",
    "from sklearn.preprocessing import LabelEncoder\n",
    "from transformers import BertTokenizer, BertModel\n",
    "from sklearn.metrics import accuracy_score, log_loss\n",
    "import numpy as np\n",
    "import pandas as pd\n",
    "import nltk\n",
    "from sklearn.neighbors import KNeighborsClassifier"
   ]
  },
  {
   "cell_type": "code",
   "execution_count": 3,
   "metadata": {},
   "outputs": [],
   "source": [
    "# Charger le fichier CSV\n",
    "train_path = \"../data/train_sample.csv\"\n",
    "test_path = \"../data/test_sample.csv\"\n",
    "data_train = pd.read_csv(train_path)\n",
    "data_test = pd.read_csv(test_path)\n",
    "# Afficher les premières lignes pour comprendre la structure"
   ]
  },
  {
   "cell_type": "code",
   "execution_count": 4,
   "metadata": {},
   "outputs": [
    {
     "data": {
      "text/html": [
       "<div>\n",
       "<style scoped>\n",
       "    .dataframe tbody tr th:only-of-type {\n",
       "        vertical-align: middle;\n",
       "    }\n",
       "\n",
       "    .dataframe tbody tr th {\n",
       "        vertical-align: top;\n",
       "    }\n",
       "\n",
       "    .dataframe thead th {\n",
       "        text-align: right;\n",
       "    }\n",
       "</style>\n",
       "<table border=\"1\" class=\"dataframe\">\n",
       "  <thead>\n",
       "    <tr style=\"text-align: right;\">\n",
       "      <th></th>\n",
       "      <th>revue/texte</th>\n",
       "      <th>polarity</th>\n",
       "      <th>revue/score</th>\n",
       "    </tr>\n",
       "  </thead>\n",
       "  <tbody>\n",
       "    <tr>\n",
       "      <th>0</th>\n",
       "      <td>I was pleased with this Romance, mostly becaus...</td>\n",
       "      <td>positive</td>\n",
       "      <td>4.0</td>\n",
       "    </tr>\n",
       "    <tr>\n",
       "      <th>1</th>\n",
       "      <td>I love this book! Not only did I re-learn the ...</td>\n",
       "      <td>positive</td>\n",
       "      <td>5.0</td>\n",
       "    </tr>\n",
       "    <tr>\n",
       "      <th>2</th>\n",
       "      <td>The Circular Staircase is a proper name for th...</td>\n",
       "      <td>neutral</td>\n",
       "      <td>3.0</td>\n",
       "    </tr>\n",
       "    <tr>\n",
       "      <th>3</th>\n",
       "      <td>Is this only the second book in the series? Fe...</td>\n",
       "      <td>negative</td>\n",
       "      <td>1.0</td>\n",
       "    </tr>\n",
       "    <tr>\n",
       "      <th>4</th>\n",
       "      <td>From the moment I discovered Prudence Mackinto...</td>\n",
       "      <td>positive</td>\n",
       "      <td>5.0</td>\n",
       "    </tr>\n",
       "  </tbody>\n",
       "</table>\n",
       "</div>"
      ],
      "text/plain": [
       "                                         revue/texte  polarity  revue/score\n",
       "0  I was pleased with this Romance, mostly becaus...  positive          4.0\n",
       "1  I love this book! Not only did I re-learn the ...  positive          5.0\n",
       "2  The Circular Staircase is a proper name for th...   neutral          3.0\n",
       "3  Is this only the second book in the series? Fe...  negative          1.0\n",
       "4  From the moment I discovered Prudence Mackinto...  positive          5.0"
      ]
     },
     "execution_count": 4,
     "metadata": {},
     "output_type": "execute_result"
    }
   ],
   "source": [
    "# Prétraitement des données\n",
    "data_train = data_train[['revue/texte', 'polarity', 'revue/score']]\n",
    "data_test = data_test[['revue/texte', 'polarity', 'revue/score']]\n",
    "\n",
    "data_train.head()"
   ]
  },
  {
   "cell_type": "code",
   "execution_count": 5,
   "metadata": {},
   "outputs": [],
   "source": [
    "# Séparation des données\n",
    "X_train = data_train['revue/texte']\n",
    "y_train_polarity = data_train['polarity']\n",
    "y_train_score = data_train['revue/score']\n",
    "X_test = data_test['revue/texte']\n",
    "y_test_polarity = data_test['polarity']\n",
    "y_test_score = data_test['revue/score']\n",
    "le = LabelEncoder()\n",
    "y_train_polarity = le.fit_transform(y_train_polarity)\n",
    "y_test_polarity = le.transform(y_test_polarity)"
   ]
  },
  {
   "cell_type": "code",
   "execution_count": 6,
   "metadata": {},
   "outputs": [],
   "source": [
    "list_to_avoid = nltk.corpus.stopwords.words('english') + ['great', 'books', 'quot', 'life', 'read', 'time', 'story', 'one', 'book', 'like']"
   ]
  },
  {
   "cell_type": "code",
   "execution_count": 7,
   "metadata": {},
   "outputs": [],
   "source": [
    "# Représentation de texte - Mots simples\n",
    "vect_simple = CountVectorizer(stop_words=list_to_avoid)\n",
    "X_train_simple = vect_simple.fit_transform(X_train)\n",
    "X_test_simple = vect_simple.transform(X_test)\n",
    "\n",
    "# Représentation de texte - TF-IDF\n",
    "vect_tfidf = TfidfVectorizer(stop_words=list_to_avoid)\n",
    "X_train_tfidf = vect_tfidf.fit_transform(X_train)\n",
    "X_test_tfidf = vect_tfidf.transform(X_test)"
   ]
  },
  {
   "cell_type": "code",
   "execution_count": 8,
   "metadata": {},
   "outputs": [
    {
     "name": "stderr",
     "output_type": "stream",
     "text": [
      "[Parallel(n_jobs=1)]: Done  49 tasks      | elapsed:  2.5min\n",
      "[Parallel(n_jobs=1)]: Done  49 tasks      | elapsed:    0.3s\n"
     ]
    }
   ],
   "source": [
    "# Modélisation - Exemple avec RandomForest pour la polarité\n",
    "model_rfc = RandomForestClassifier(verbose=1)\n",
    "model_rfc.fit(X_train_simple, y_train_polarity)\n",
    "y_pred1 = model_rfc.predict(X_test_simple)\n",
    "\n",
    "model_rfc2 = RandomForestClassifier()\n",
    "model_rfc2.fit(X_train_tfidf, y_train_polarity)\n",
    "y_pred2 = model_rfc2.predict(X_test_tfidf)"
   ]
  },
  {
   "cell_type": "code",
   "execution_count": 9,
   "metadata": {},
   "outputs": [
    {
     "name": "stdout",
     "output_type": "stream",
     "text": [
      "Accuracy mots simples: 0.7478181818181818\n"
     ]
    },
    {
     "name": "stderr",
     "output_type": "stream",
     "text": [
      "[Parallel(n_jobs=1)]: Done  49 tasks      | elapsed:    0.3s\n"
     ]
    },
    {
     "name": "stdout",
     "output_type": "stream",
     "text": [
      "Loss mots simples: 0.6869467690891733\n",
      "Accuracy Tf-Idf: 0.7385454545454545\n",
      "Loss Tf-Idf: 0.6884409984457961\n"
     ]
    }
   ],
   "source": [
    "# Remarque: L'entraînement et l'évaluation des modèles ne sont pas inclus dans ce code.\n",
    "# évaluation des modèles accuracy_score et log_loss\n",
    "print(\"Accuracy mots simples:\",accuracy_score(y_test_polarity, y_pred1))\n",
    "print(\"Loss mots simples:\",log_loss(y_test_polarity, model_rfc.predict_proba(X_test_simple)))\n",
    "\n",
    "print(\"Accuracy Tf-Idf:\",accuracy_score(y_test_polarity, y_pred2))\n",
    "print(\"Loss Tf-Idf:\",log_loss(y_test_polarity, model_rfc2.predict_proba(X_test_tfidf)))"
   ]
  },
  {
   "cell_type": "code",
   "execution_count": 10,
   "metadata": {},
   "outputs": [
    {
     "name": "stderr",
     "output_type": "stream",
     "text": [
      "[Parallel(n_jobs=1)]: Done  49 tasks      | elapsed:  3.4min\n",
      "[Parallel(n_jobs=1)]: Done  49 tasks      | elapsed:    0.3s\n"
     ]
    }
   ],
   "source": [
    "# Modélisation - Exemple avec RandomForest pour la polarité\n",
    "model_rfc_score = RandomForestClassifier(verbose=1)\n",
    "model_rfc.fit(X_train_simple, y_train_score)\n",
    "y_pred3 = model_rfc.predict(X_test_simple)\n",
    "\n",
    "model_rfc2_score = RandomForestClassifier()\n",
    "model_rfc2.fit(X_train_tfidf, y_train_score)\n",
    "y_pred4 = model_rfc2.predict(X_test_tfidf)"
   ]
  },
  {
   "cell_type": "code",
   "execution_count": 12,
   "metadata": {},
   "outputs": [
    {
     "name": "stdout",
     "output_type": "stream",
     "text": [
      "Accuracy mots simples: 0.5466363636363636\n"
     ]
    },
    {
     "name": "stderr",
     "output_type": "stream",
     "text": [
      "[Parallel(n_jobs=1)]: Done  49 tasks      | elapsed:    0.4s\n"
     ]
    },
    {
     "name": "stdout",
     "output_type": "stream",
     "text": [
      "Loss mots simples: 1.1947488350562099\n",
      "Accuracy Tf-Idf: 0.538\n",
      "Loss Tf-Idf: 1.205161741736806\n"
     ]
    }
   ],
   "source": [
    "\n",
    "print(\"Accuracy mots simples:\",accuracy_score(y_test_score, y_pred3))\n",
    "print(\"Loss mots simples:\",log_loss(y_test_score, model_rfc.predict_proba(X_test_simple)))\n",
    "\n",
    "print(\"Accuracy Tf-Idf:\",accuracy_score(y_test_score, y_pred4))\n",
    "print(\"Loss Tf-Idf:\",log_loss(y_test_score, model_rfc2.predict_proba(X_test_tfidf)))"
   ]
  },
  {
   "cell_type": "code",
   "execution_count": 14,
   "metadata": {},
   "outputs": [],
   "source": [
    "import pickle\n",
    "\n",
    "filename = 'finalized_model_polarity_idf.sav'\n",
    "filename1 = 'finalized_model_score_idf.sav'\n",
    "filename2 = 'finalized_model_polarity_counter.sav'\n",
    "filename3 = 'finalized_model_score_counter.sav'\n",
    "filename_tf = 'tfidf.sav'\n",
    "filename_counter = 'counter.sav'\n",
    "\n",
    "pickle.dump(model_rfc2, open(filename, 'wb'))\n",
    "pickle.dump(model_rfc2_score, open(filename1, 'wb'))\n",
    "pickle.dump(model_rfc, open(filename2, 'wb'))\n",
    "pickle.dump(model_rfc, open(filename3, 'wb'))\n",
    "pickle.dump(vect_tfidf, open(filename_tf, 'wb'))\n",
    "pickle.dump(vect_simple, open(filename_counter, 'wb'))\n"
   ]
  }
 ],
 "metadata": {
  "kernelspec": {
   "display_name": "Python 3",
   "language": "python",
   "name": "python3"
  },
  "language_info": {
   "codemirror_mode": {
    "name": "ipython",
    "version": 3
   },
   "file_extension": ".py",
   "mimetype": "text/x-python",
   "name": "python",
   "nbconvert_exporter": "python",
   "pygments_lexer": "ipython3",
   "version": "3.10.11"
  }
 },
 "nbformat": 4,
 "nbformat_minor": 2
}
