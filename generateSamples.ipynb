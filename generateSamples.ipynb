{
 "cells": [
  {
   "cell_type": "code",
   "execution_count": 1,
   "metadata": {},
   "outputs": [
    {
     "name": "stderr",
     "output_type": "stream",
     "text": [
      "C:\\Users\\jules\\AppData\\Local\\Temp\\ipykernel_12792\\3355699904.py:1: DeprecationWarning: \n",
      "Pyarrow will become a required dependency of pandas in the next major release of pandas (pandas 3.0),\n",
      "(to allow more performant data types, such as the Arrow string type, and better interoperability with other libraries)\n",
      "but was not found to be installed on your system.\n",
      "If this would cause problems for you,\n",
      "please provide us feedback at https://github.com/pandas-dev/pandas/issues/54466\n",
      "        \n",
      "  import pandas as pd\n"
     ]
    }
   ],
   "source": [
    "import pandas as pd\n",
    "\n",
    "PATH = \"./data/Books_rating_t.csv\"\n",
    "\n",
    "# Read the data\n",
    "data = pd.read_csv(PATH)  \n"
   ]
  },
  {
   "cell_type": "code",
   "execution_count": 2,
   "metadata": {},
   "outputs": [],
   "source": [
    "data.dropna(inplace=True)\n",
    "data['polarity'] = data['revue/score'].apply(lambda x: 'positive' if x > 3 else ('negative' if x < 3 else 'neutral'))\n"
   ]
  },
  {
   "cell_type": "code",
   "execution_count": 4,
   "metadata": {},
   "outputs": [],
   "source": [
    "# make a equi-distributed dataset by polarity\n",
    "positive = data[data['polarity'] == 'positive']\n",
    "negative = data[data['polarity'] == 'negative']\n",
    "neutral = data[data['polarity'] == 'neutral']"
   ]
  },
  {
   "cell_type": "code",
   "execution_count": 5,
   "metadata": {},
   "outputs": [],
   "source": [
    "positive = positive.sample(n=25000, random_state=42)\n",
    "negative = negative.sample(n=25000, random_state=42)\n",
    "neutral = neutral.sample(n=25000, random_state=42)"
   ]
  },
  {
   "cell_type": "code",
   "execution_count": 10,
   "metadata": {},
   "outputs": [],
   "source": [
    "data = pd.concat([positive, negative, neutral]).reset_index(drop=True)"
   ]
  },
  {
   "cell_type": "code",
   "execution_count": 11,
   "metadata": {},
   "outputs": [],
   "source": [
    "from sklearn.model_selection import train_test_split\n",
    "\n",
    "# Split the data into a training and test set.\n",
    "train , test = train_test_split(data, test_size=0.2, random_state=42)"
   ]
  },
  {
   "cell_type": "code",
   "execution_count": 12,
   "metadata": {},
   "outputs": [
    {
     "name": "stdout",
     "output_type": "stream",
     "text": [
      "<class 'pandas.core.frame.DataFrame'>\n",
      "Index: 60000 entries, 1200 to 15795\n",
      "Data columns (total 11 columns):\n",
      " #   Column         Non-Null Count  Dtype  \n",
      "---  ------         --------------  -----  \n",
      " 0   Id             60000 non-null  object \n",
      " 1   Titre          60000 non-null  object \n",
      " 2   Prix           60000 non-null  float64\n",
      " 3   User_id        60000 non-null  object \n",
      " 4   Nom lecteur    60000 non-null  object \n",
      " 5   revue/utilité  60000 non-null  object \n",
      " 6   revue/score    60000 non-null  float64\n",
      " 7   revue/heure    60000 non-null  int64  \n",
      " 8   revue/résumé   60000 non-null  object \n",
      " 9   revue/texte    60000 non-null  object \n",
      " 10  polarity       60000 non-null  object \n",
      "dtypes: float64(2), int64(1), object(8)\n",
      "memory usage: 5.5+ MB\n"
     ]
    }
   ],
   "source": [
    "train.info()"
   ]
  },
  {
   "cell_type": "code",
   "execution_count": 14,
   "metadata": {},
   "outputs": [],
   "source": [
    "PATH_TEST = \"./data/test_sample.csv\"\n",
    "PATH_TRAIN = \"./data/train_sample.csv\""
   ]
  },
  {
   "cell_type": "code",
   "execution_count": 15,
   "metadata": {},
   "outputs": [],
   "source": [
    "train.to_csv(PATH_TRAIN, index=False)\n",
    "test.to_csv(PATH_TEST, index=False)"
   ]
  }
 ],
 "metadata": {
  "kernelspec": {
   "display_name": "Python 3",
   "language": "python",
   "name": "python3"
  },
  "language_info": {
   "codemirror_mode": {
    "name": "ipython",
    "version": 3
   },
   "file_extension": ".py",
   "mimetype": "text/x-python",
   "name": "python",
   "nbconvert_exporter": "python",
   "pygments_lexer": "ipython3",
   "version": "3.10.11"
  }
 },
 "nbformat": 4,
 "nbformat_minor": 2
}
